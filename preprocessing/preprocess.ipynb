{
 "cells": [
  {
   "cell_type": "code",
   "execution_count": 7,
   "source": [
    "import scipy.signal as signal\r\n",
    "import numpy as np\r\n",
    "from matplotlib import pyplot as plt"
   ],
   "outputs": [],
   "metadata": {}
  },
  {
   "cell_type": "code",
   "execution_count": 21,
   "source": [
    "fs = 714 # Sampling frequency\r\n",
    "nperseg = 128 # Length of each segment\r\n",
    "noverlap = 64 # Number of overlapping points between segments\r\n",
    "nfft = 128 # Length of FFT\r\n",
    "x = np.random.random(40000) + np.random.random(40000) * 1j\r\n",
    "\r\n",
    "f, t, Zxx = signal.stft(x, fs=fs, window='hamming', nperseg=nperseg, noverlap=noverlap, nfft=nfft, detrend=False, return_onesided=True, boundary='zeros', padded=True, axis=- 1)\r\n",
    "# plt.pcolormesh(t, f, np.abs(Zxx))\r\n",
    "\r\n",
    "fft_dB =20*np.log(np.abs(Zxx))\r\n",
    "fft_dB.shape"
   ],
   "outputs": [
    {
     "output_type": "execute_result",
     "data": {
      "text/plain": [
       "(128, 626)"
      ]
     },
     "metadata": {},
     "execution_count": 21
    }
   ],
   "metadata": {}
  },
  {
   "cell_type": "code",
   "execution_count": 32,
   "source": [
    "print(len(fft_dB))"
   ],
   "outputs": [
    {
     "output_type": "stream",
     "name": "stdout",
     "text": [
      "128\n"
     ]
    }
   ],
   "metadata": {}
  },
  {
   "cell_type": "code",
   "execution_count": 31,
   "source": [
    "def get_start_points_x(width, slice_width, overlap_x):\r\n",
    "    x_points = [0]\r\n",
    "    stride = int(slice_width * (1 - overlap_x))\r\n",
    "    counter = 1\r\n",
    "    while True:\r\n",
    "        pt = stride * counter\r\n",
    "        if pt + slice_width >= width:\r\n",
    "            x_points.append(width - slice_width)\r\n",
    "            break\r\n",
    "        else:\r\n",
    "            x_points.append(pt)\r\n",
    "        counter += 1\r\n",
    "    return x_points\r\n",
    "\r\n"
   ],
   "outputs": [],
   "metadata": {}
  },
  {
   "cell_type": "code",
   "execution_count": 39,
   "source": [
    "width = fft_dB.shape[1]\r\n",
    "slice_width = 45\r\n",
    "overlap = 0.5\r\n",
    "start_points = get_start_points_x(width, slice_width, overlap)\r\n",
    "\r\n",
    "segments = [fft_dB[:,start_point:start_point+slice_width] for start_point in start_points]"
   ],
   "outputs": [
    {
     "output_type": "execute_result",
     "data": {
      "text/plain": [
       "28"
      ]
     },
     "metadata": {},
     "execution_count": 39
    }
   ],
   "metadata": {}
  }
 ],
 "metadata": {
  "orig_nbformat": 4,
  "language_info": {
   "name": "python",
   "version": "3.8.5",
   "mimetype": "text/x-python",
   "codemirror_mode": {
    "name": "ipython",
    "version": 3
   },
   "pygments_lexer": "ipython3",
   "nbconvert_exporter": "python",
   "file_extension": ".py"
  },
  "kernelspec": {
   "name": "python3",
   "display_name": "Python 3.8.5 64-bit ('masters': conda)"
  },
  "interpreter": {
   "hash": "16d30091bb45856a94ae619e5d9410e3445f74495848a8805ee5ad5ec3b0e2cd"
  }
 },
 "nbformat": 4,
 "nbformat_minor": 2
}