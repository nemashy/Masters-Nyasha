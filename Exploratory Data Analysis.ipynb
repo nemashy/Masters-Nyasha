{
 "metadata": {
  "language_info": {
   "codemirror_mode": {
    "name": "ipython",
    "version": 3
   },
   "file_extension": ".py",
   "mimetype": "text/x-python",
   "name": "python",
   "nbconvert_exporter": "python",
   "pygments_lexer": "ipython3",
   "version": 3
  },
  "orig_nbformat": 2
 },
 "nbformat": 4,
 "nbformat_minor": 2,
 "cells": [
  {
   "cell_type": "code",
   "execution_count": null,
   "metadata": {},
   "outputs": [],
   "source": [
    "def get_matlab_data(file_path, is_label: bool):\n",
    "    \"\"\"reading a .mat file to extract the images or the labels\"\"\"\n",
    "    print(f\"Started reading {file_path} . . . \")\n",
    "    data1 = h5py.File(file_path, 'r')\n",
    "    data_key =  list(data1.keys())[1]\n",
    "\n",
    "    refs=data1[data_key][0][:] # get object references\n",
    "    num_of_examples = len(refs)\n",
    "    if is_label: # Check if the data to read is a label\n",
    "        np_array_data =  np.array([''.join(map(chr, np.squeeze(data1[refs[i]]))) for i in range(num_of_examples)]) # Taking all\n",
    "    else:\n",
    "        np_array_data =  np.array([np.transpose(np.array(data1[refs[i]])) for i in range(num_of_examples)]) # Taking all \n",
    "\n",
    "    data1.close()\n",
    "    print(f\"Completed reading {file_path}\")\n",
    "\n",
    "    return np_array_data\n"
   ]
  },
  {
   "cell_type": "code",
   "execution_count": null,
   "metadata": {},
   "outputs": [],
   "source": [
    "# Get features\n",
    "train_data = get_matlab_data('Data/train_data.mat', is_label=False)\n",
    "validation_data = get_matlab_data('Data/val_data.mat', is_label=False)\n",
    "test_data = get_matlab_data('Data/test_data.mat', is_label=False)"
   ]
  }
 ]
}