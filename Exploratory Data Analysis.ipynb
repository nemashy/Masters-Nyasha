{
 "metadata": {
  "language_info": {
   "codemirror_mode": {
    "name": "ipython",
    "version": 3
   },
   "file_extension": ".py",
   "mimetype": "text/x-python",
   "name": "python",
   "nbconvert_exporter": "python",
   "pygments_lexer": "ipython3",
   "version": "3.8.5-final"
  },
  "orig_nbformat": 2,
  "kernelspec": {
   "name": "python3",
   "display_name": "Python 3.8.5 64-bit ('masters': conda)",
   "metadata": {
    "interpreter": {
     "hash": "16d30091bb45856a94ae619e5d9410e3445f74495848a8805ee5ad5ec3b0e2cd"
    }
   }
  }
 },
 "nbformat": 4,
 "nbformat_minor": 2,
 "cells": [
  {
   "cell_type": "code",
   "execution_count": 3,
   "metadata": {},
   "outputs": [],
   "source": [
    "import h5py\n",
    "import numpy as np\n",
    "\n",
    "# %hist -o -g -f ipython_history.md"
   ]
  },
  {
   "cell_type": "code",
   "execution_count": 4,
   "metadata": {},
   "outputs": [],
   "source": [
    "def get_matlab_data(file_path, is_label: bool):\n",
    "    \"\"\"reading a .mat file to extract the images or the labels\"\"\"\n",
    "\n",
    "    \n",
    "\n",
    "    with h5py.File(file_path, 'r') as f:\n",
    "        \n",
    "        print(f\"Started reading {file_path} . . . \")\n",
    "    \n",
    "        data_keys =  list(f.keys())[1]\n",
    "        refs = f[data_keys][0][:] # get object references\n",
    "        num_of_examples = len(refs)\n",
    "    \n",
    "        if is_label: # Check if the this is a labels file\n",
    "            examples_data =  np.array(\n",
    "                [''.join(map(chr, np.squeeze(f[refs[i]]))) for i in range(num_of_examples)]\n",
    "                ) \n",
    "        else: # If not labels file\n",
    "            examples_data =  np.array(\n",
    "                [np.transpose(np.array(f[refs[i]])) for i in range(num_of_examples)]\n",
    "                ) # Taking all  \n",
    "\n",
    "        print(f\"Completed reading {file_path}\")    \n",
    "    \n",
    "    return examples_data\n"
   ]
  },
  {
   "cell_type": "code",
   "execution_count": 5,
   "metadata": {},
   "outputs": [
    {
     "output_type": "stream",
     "name": "stdout",
     "text": [
      "Started reading Data/train_data.mat . . . \n",
      "Completed reading Data/train_data.mat\n",
      "Started reading Data/val_data.mat . . . \n",
      "Completed reading Data/val_data.mat\n",
      "Started reading Data/test_data.mat . . . \n",
      "Completed reading Data/test_data.mat\n"
     ]
    }
   ],
   "source": [
    "# Get features\n",
    "train_data = get_matlab_data('Data/train_data.mat', is_label=False)\n",
    "validation_data = get_matlab_data('Data/val_data.mat', is_label=False)\n",
    "test_data = get_matlab_data('Data/test_data.mat', is_label=False)"
   ]
  },
  {
   "cell_type": "code",
   "execution_count": 6,
   "metadata": {},
   "outputs": [
    {
     "output_type": "stream",
     "name": "stdout",
     "text": [
      "The training data has a shape of (29894, 128, 128)\nThe validation data has a shape of (3733, 128, 128)\nThe test data has a shape of (3733, 128, 128)\n"
     ]
    }
   ],
   "source": [
    "print(f\"The training data has a shape of {train_data.shape}\")\n",
    "print(f\"The validation data has a shape of {validation_data.shape}\")\n",
    "print(f\"The test data has a shape of {test_data.shape}\")"
   ]
  },
  {
   "cell_type": "code",
   "execution_count": null,
   "metadata": {},
   "outputs": [],
   "source": []
  }
 ]
}