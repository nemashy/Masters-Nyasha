{
 "cells": [
  {
   "cell_type": "code",
   "execution_count": 2,
   "source": [
    "import numpy as np\r\n",
    "import scipy.signal as signal"
   ],
   "outputs": [],
   "metadata": {}
  },
  {
   "cell_type": "code",
   "execution_count": 3,
   "source": [
    "def get_start_points_x(size, width, overlap_x):\r\n",
    "    x_points = [0]\r\n",
    "    stride = int(width * (1 - overlap_x))\r\n",
    "    counter = 1\r\n",
    "    while True:\r\n",
    "        pt = stride * counter\r\n",
    "        if pt + width >= size:\r\n",
    "            # x_points.append(size - width)\r\n",
    "            break\r\n",
    "        else:\r\n",
    "            x_points.append(pt)\r\n",
    "        counter += 1\r\n",
    "    return x_points\r\n"
   ],
   "outputs": [],
   "metadata": {}
  },
  {
   "cell_type": "code",
   "execution_count": 4,
   "source": [
    "fs = 7.1428571e2\r\n",
    "Z = np.random.random(60000) + np.random.random(60000) * 1j"
   ],
   "outputs": [],
   "metadata": {}
  },
  {
   "cell_type": "code",
   "execution_count": 8,
   "source": [
    "%%timeit -n 1 -r 10\r\n",
    "num_imgs = 0\r\n",
    "for _ in range(10000):    \r\n",
    "    f, t, Zxx = signal.stft(Z, fs=fs, window='hamming', nperseg=128, noverlap=32, nfft=128)\r\n",
    "    S_dB = 20* np.log(abs(Zxx))\r\n",
    "    size = S_dB.shape[1] \r\n",
    "    width = 45 \r\n",
    "    overlap_x = 0.25\r\n",
    "    x_points = get_start_points_x(size, width, overlap_x)\r\n",
    "    for j in x_points:\r\n",
    "        split = S_dB[:, j : j + width]\r\n",
    "        num_imgs+=1"
   ],
   "outputs": [
    {
     "output_type": "stream",
     "name": "stderr",
     "text": [
      "C:\\Users\\nyasha\\anaconda3\\envs\\masters\\lib\\site-packages\\scipy\\signal\\spectral.py:1812: UserWarning: Input data is complex, switching to return_onesided=False\n",
      "  warnings.warn('Input data is complex, switching to '\n"
     ]
    }
   ],
   "metadata": {}
  },
  {
   "cell_type": "code",
   "execution_count": 7,
   "source": [
    "num_imgs/48.9"
   ],
   "outputs": [
    {
     "output_type": "execute_result",
     "data": {
      "text/plain": [
       "3680.9815950920247"
      ]
     },
     "metadata": {},
     "execution_count": 7
    }
   ],
   "metadata": {}
  },
  {
   "cell_type": "code",
   "execution_count": 85,
   "source": [
    "n_points = 4200\r\n",
    "Z = np.random.random(n_points) + np.random.random(n_points) * 1j\r\n",
    "f, t, Zxx = signal.stft(Z, fs=fs, window='hamming', nperseg=128, noverlap=32, nfft=128)\r\n",
    "Zxx.shape"
   ],
   "outputs": [
    {
     "output_type": "execute_result",
     "data": {
      "text/plain": [
       "(128, 45)"
      ]
     },
     "metadata": {},
     "execution_count": 85
    }
   ],
   "metadata": {}
  },
  {
   "cell_type": "code",
   "execution_count": 52,
   "source": [
    "1/714"
   ],
   "outputs": [
    {
     "output_type": "execute_result",
     "data": {
      "text/plain": [
       "0.0014005602240896359"
      ]
     },
     "metadata": {},
     "execution_count": 52
    }
   ],
   "metadata": {}
  },
  {
   "cell_type": "code",
   "execution_count": 87,
   "source": [
    "4761/(fs/4200)"
   ],
   "outputs": [
    {
     "output_type": "execute_result",
     "data": {
      "text/plain": [
       "27994.68016796808"
      ]
     },
     "metadata": {},
     "execution_count": 87
    }
   ],
   "metadata": {}
  },
  {
   "cell_type": "code",
   "execution_count": 88,
   "source": [
    "27994*5"
   ],
   "outputs": [
    {
     "output_type": "execute_result",
     "data": {
      "text/plain": [
       "139970"
      ]
     },
     "metadata": {},
     "execution_count": 88
    }
   ],
   "metadata": {}
  },
  {
   "cell_type": "code",
   "execution_count": null,
   "source": [],
   "outputs": [],
   "metadata": {}
  }
 ],
 "metadata": {
  "orig_nbformat": 4,
  "language_info": {
   "name": "python",
   "version": "3.8.5",
   "mimetype": "text/x-python",
   "codemirror_mode": {
    "name": "ipython",
    "version": 3
   },
   "pygments_lexer": "ipython3",
   "nbconvert_exporter": "python",
   "file_extension": ".py"
  },
  "kernelspec": {
   "name": "python3",
   "display_name": "Python 3.8.5 64-bit ('masters': conda)"
  },
  "interpreter": {
   "hash": "16d30091bb45856a94ae619e5d9410e3445f74495848a8805ee5ad5ec3b0e2cd"
  }
 },
 "nbformat": 4,
 "nbformat_minor": 2
}