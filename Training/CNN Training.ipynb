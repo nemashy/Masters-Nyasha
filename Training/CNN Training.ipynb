{
 "metadata": {
  "language_info": {
   "codemirror_mode": {
    "name": "ipython",
    "version": 3
   },
   "file_extension": ".py",
   "mimetype": "text/x-python",
   "name": "python",
   "nbconvert_exporter": "python",
   "pygments_lexer": "ipython3",
   "version": "3.8.5"
  },
  "orig_nbformat": 2,
  "kernelspec": {
   "name": "python385jvsc74a57bd016d30091bb45856a94ae619e5d9410e3445f74495848a8805ee5ad5ec3b0e2cd",
   "display_name": "Python 3.8.5 64-bit ('masters': conda)"
  }
 },
 "nbformat": 4,
 "nbformat_minor": 2,
 "cells": [
  {
   "cell_type": "code",
   "execution_count": 1,
   "metadata": {},
   "outputs": [],
   "source": [
    "sys.path.append('C:/Users/nyasha/Desktop/Masters-Nyasha/Models')\n",
    "\n",
    "import sys\n",
    "\n",
    "import torch\n",
    "import numpy as np\n",
    "import torch.optim as optim\n",
    "import torchvision.transforms as transforms\n",
    "\n",
    "from CNN import ConvNet1\n",
    "from training_functions import *"
   ]
  },
  {
   "cell_type": "code",
   "execution_count": 2,
   "metadata": {},
   "outputs": [],
   "source": [
    "batch_size = 128\n",
    "num_epochs = 25"
   ]
  },
  {
   "cell_type": "code",
   "execution_count": 3,
   "metadata": {},
   "outputs": [],
   "source": [
    "# Extracting the training, validation and testing data\n",
    "compressed_file_path = \"C:/Users/nyasha/Desktop/Masters-Nyasha/Processed Data/processed_data.npz\"\n",
    "x_train, x_test, x_val, y_train, y_test, y_val = get_train_test_data(compressed_file_path)"
   ]
  },
  {
   "cell_type": "code",
   "execution_count": 4,
   "metadata": {},
   "outputs": [
    {
     "output_type": "stream",
     "name": "stdout",
     "text": [
      "(11035, 128, 44)\n(3679, 128, 44)\n(3679, 128, 44)\n(11035,)\n(3679,)\n(3679,)\n"
     ]
    }
   ],
   "source": [
    "# Check if files have been imported correctly\n",
    "print(x_train.shape)  \n",
    "print(x_test.shape)\n",
    "print(x_val.shape)\n",
    "print(y_train.shape)\n",
    "print(y_test.shape)\n",
    "print(y_val.shape)"
   ]
  },
  {
   "cell_type": "code",
   "execution_count": 5,
   "metadata": {},
   "outputs": [],
   "source": [
    "# Creating the data loaders\n",
    "train_loader, val_loader, test_loader = createDataloaders(x_train, y_train, x_val, y_val, x_test, y_test, batch_size)"
   ]
  },
  {
   "cell_type": "code",
   "execution_count": 6,
   "metadata": {},
   "outputs": [],
   "source": [
    "import torch.nn as nn\n",
    "import torch.nn.functional as F\n",
    "\n",
    "class Net(nn.Module):\n",
    "    def __init__(self):\n",
    "        super().__init__()\n",
    "        self.conv1 = nn.Conv2d(1, 32, 3)\n",
    "        self.pool = nn.MaxPool2d(2, 2)\n",
    "        self.conv2 = nn.Conv2d(32, 32, 3)\n",
    "        self.dropout = nn.Dropout(0.2)\n",
    "        self.fc1 = nn.Linear(32 * 30 * 9, 128)\n",
    "        self.fc2 = nn.Linear(128, 64)\n",
    "        self.fc3 = nn.Linear(64, 6)\n",
    "\n",
    "    def forward(self, x):\n",
    "        x = self.pool(F.relu(self.conv1(x)))\n",
    "        x = self.pool(F.relu(self.conv2(x)))\n",
    "        x = x.view(-1, 32 * 30 * 9)\n",
    "        x = self.dropout(x)\n",
    "        x = F.relu(self.fc1(x))\n",
    "        x = self.dropout(x)\n",
    "        x = F.relu(self.fc2(x))\n",
    "        x = self.dropout(x)\n",
    "        x = self.fc3(x)\n",
    "        return x\n"
   ]
  },
  {
   "cell_type": "code",
   "execution_count": 38,
   "metadata": {},
   "outputs": [],
   "source": [
    "import torch.nn as nn\n",
    "import torch.nn.functional as F\n",
    "\n",
    "class Net2(nn.Module):\n",
    "    def __init__(self):\n",
    "        super().__init__()\n",
    "        self.conv1 = nn.Conv2d(1, 32, 3)\n",
    "        self.pool = nn.MaxPool2d(2, 2, 1)\n",
    "        self.conv2 = nn.Conv2d(32, 32, 3)\n",
    "        self.conv3 = nn.Conv2d(32, 32, 3)\n",
    "        self.dropout = nn.Dropout(0.2)\n",
    "        self.fc1 = nn.Linear(32 * 16 * 5, 128)\n",
    "        self.fc2 = nn.Linear(128, 64)\n",
    "        self.fc3 = nn.Linear(64, 6)\n",
    "\n",
    "    def forward(self, x):\n",
    "        x = self.pool(F.relu(self.conv1(x)))\n",
    "        x = self.pool(F.relu(self.conv2(x)))\n",
    "        x = self.pool(F.relu(self.conv3(x)))\n",
    "        x = x.view(-1, 32 * 16 * 5)\n",
    "        x = self.dropout(x)\n",
    "        x = F.relu(self.fc1(x))\n",
    "        x = self.dropout(x)\n",
    "        x = F.relu(self.fc2(x))\n",
    "        x = self.dropout(x)\n",
    "        x = self.fc3(x)\n",
    "        return x\n"
   ]
  },
  {
   "cell_type": "code",
   "execution_count": 24,
   "metadata": {},
   "outputs": [],
   "source": [
    "class ConvNet1(nn.Module):\n",
    "    def __init__(self):\n",
    "        super(ConvNet1, self).__init__()\n",
    "        self.layer1 = nn.Sequential(\n",
    "            nn.Conv2d(1, 10, kernel_size=3, stride=1, padding=1),\n",
    "            nn.ReLU(),\n",
    "            nn.MaxPool2d(kernel_size=2, stride=2))\n",
    "        self.layer2 = nn.Sequential(\n",
    "            nn.Conv2d(10, 20, kernel_size=3, stride=1, padding=1),\n",
    "            nn.ReLU(),\n",
    "            nn.MaxPool2d(kernel_size=2, stride=2))\n",
    "        self.layer3 = nn.Sequential(\n",
    "            nn.Conv2d(20,20, kernel_size=3, stride=1, padding=1),\n",
    "            nn.ReLU(),\n",
    "            nn.MaxPool2d(kernel_size=2, stride=2))\n",
    "        self.fc1 = nn.Sequential(\n",
    "            nn.Linear(20 * 1 *8, 128),\n",
    "            nn.ReLU())\n",
    "        self.fc2 = nn.Linear(128, 4)\n",
    "\n",
    "    def forward(self, x):\n",
    "        out = self.layer1(x)\n",
    "        out = self.layer2(out)\n",
    "        out = self.layer3(out)\n",
    "        out = out.reshape(out.size(0), -1)\n",
    "        out = self.fc1(out)\n",
    "        out = self.fc2(out)\n",
    "        return out"
   ]
  },
  {
   "cell_type": "code",
   "execution_count": 7,
   "metadata": {},
   "outputs": [],
   "source": [
    "# Select a model from ../Models\n",
    "model_1  = Net()"
   ]
  },
  {
   "cell_type": "code",
   "execution_count": 41,
   "metadata": {},
   "outputs": [],
   "source": [
    "data = iter(train_loader)\n",
    "images, _ = next(data)"
   ]
  },
  {
   "cell_type": "code",
   "execution_count": 8,
   "metadata": {},
   "outputs": [
    {
     "output_type": "stream",
     "name": "stdout",
     "text": [
      "Running on the GPU\n"
     ]
    }
   ],
   "source": [
    "device = get_device() \n",
    "model_on_device = model_1.to(device) # Move model to the current device"
   ]
  },
  {
   "cell_type": "code",
   "execution_count": 43,
   "metadata": {},
   "outputs": [
    {
     "output_type": "execute_result",
     "data": {
      "text/plain": [
       "torch.Size([128, 32, 16, 5])"
      ]
     },
     "metadata": {},
     "execution_count": 43
    }
   ],
   "source": [
    "images = images.to(device, dtype=torch.float)\n",
    "x = model_1.pool(F.relu(model_1.conv1(images)))\n",
    "x = model_1.pool(F.relu(model_1.conv2(x)))\n",
    "x = model_1.pool(F.relu(model_1.conv3(x)))\n",
    "x.shape"
   ]
  },
  {
   "cell_type": "code",
   "execution_count": 9,
   "metadata": {},
   "outputs": [
    {
     "output_type": "stream",
     "name": "stderr",
     "text": [
      "C:\\Users\\nyasha\\anaconda3\\envs\\masters\\lib\\site-packages\\sklearn\\utils\\validation.py:70: FutureWarning: Pass classes=['2_walking' 'clutter/noise' 'running' 'sphere_swing' 'vehicle' 'walking'], y=['walking' 'vehicle' 'sphere_swing' ... 'sphere_swing' 'walking' 'vehicle'] as keyword args. From version 1.0 (renaming of 0.25) passing these as positional arguments will result in an error\n  warnings.warn(f\"Pass {args_msg} as keyword args. From version \"\n"
     ]
    }
   ],
   "source": [
    "class_weights = get_class_weights(y_train, device)\n",
    "criterion = nn.CrossEntropyLoss(weight=class_weights)\n",
    "optimizer = optim.SGD(model_on_device.parameters(), lr=0.01, momentum=0.9)"
   ]
  },
  {
   "cell_type": "code",
   "execution_count": 10,
   "metadata": {},
   "outputs": [
    {
     "output_type": "execute_result",
     "data": {
      "text/plain": [
       "tensor([0.9888, 0.9995, 1.3118, 1.4892, 0.6809, 0.9210], device='cuda:0')"
      ]
     },
     "metadata": {},
     "execution_count": 10
    }
   ],
   "source": [
    "class_weights"
   ]
  },
  {
   "cell_type": "code",
   "execution_count": 11,
   "metadata": {},
   "outputs": [
    {
     "output_type": "execute_result",
     "data": {
      "text/plain": [
       "Net(\n",
       "  (conv1): Conv2d(1, 32, kernel_size=(3, 3), stride=(1, 1))\n",
       "  (pool): MaxPool2d(kernel_size=2, stride=2, padding=0, dilation=1, ceil_mode=False)\n",
       "  (conv2): Conv2d(32, 32, kernel_size=(3, 3), stride=(1, 1))\n",
       "  (dropout): Dropout(p=0.2, inplace=False)\n",
       "  (fc1): Linear(in_features=8640, out_features=128, bias=True)\n",
       "  (fc2): Linear(in_features=128, out_features=64, bias=True)\n",
       "  (fc3): Linear(in_features=64, out_features=6, bias=True)\n",
       ")"
      ]
     },
     "metadata": {},
     "execution_count": 11
    }
   ],
   "source": [
    "model_on_device"
   ]
  },
  {
   "cell_type": "code",
   "execution_count": 12,
   "metadata": {},
   "outputs": [
    {
     "output_type": "stream",
     "name": "stdout",
     "text": [
      "Epoch: 1/80 \t Training Loss: 1.2715, Accuracy: 16.87, Testing Loss: 1.7915, Accuracy: 23.97\n",
      "Epoch: 2/80 \t Training Loss: 1.2706, Accuracy: 18.47, Testing Loss: 1.7916, Accuracy: 29.60\n",
      "Epoch: 3/80 \t Training Loss: 1.2697, Accuracy: 17.11, Testing Loss: 1.7884, Accuracy: 27.26\n",
      "Epoch: 4/80 \t Training Loss: 1.2664, Accuracy: 20.07, Testing Loss: 1.7815, Accuracy: 23.08\n",
      "Epoch: 5/80 \t Training Loss: 1.2466, Accuracy: 23.67, Testing Loss: 1.6756, Accuracy: 37.24\n",
      "Epoch: 6/80 \t Training Loss: 1.0734, Accuracy: 35.73, Testing Loss: 1.3647, Accuracy: 45.18\n",
      "Epoch: 7/80 \t Training Loss: 0.9129, Accuracy: 47.24, Testing Loss: 1.2198, Accuracy: 52.73\n",
      "Epoch: 8/80 \t Training Loss: 0.8159, Accuracy: 51.72, Testing Loss: 1.1230, Accuracy: 52.89\n",
      "Epoch: 9/80 \t Training Loss: 0.7308, Accuracy: 55.93, Testing Loss: 0.8619, Accuracy: 63.88\n",
      "Epoch: 10/80 \t Training Loss: 0.6205, Accuracy: 63.86, Testing Loss: 1.1467, Accuracy: 51.07\n",
      "Epoch: 11/80 \t Training Loss: 0.5583, Accuracy: 66.12, Testing Loss: 0.7569, Accuracy: 67.76\n",
      "Epoch: 12/80 \t Training Loss: 0.5342, Accuracy: 67.78, Testing Loss: 0.7202, Accuracy: 70.86\n",
      "Epoch: 13/80 \t Training Loss: 0.4998, Accuracy: 69.63, Testing Loss: 0.6865, Accuracy: 69.45\n",
      "Epoch: 14/80 \t Training Loss: 0.4903, Accuracy: 70.12, Testing Loss: 0.6372, Accuracy: 73.20\n",
      "Epoch: 15/80 \t Training Loss: 0.4568, Accuracy: 72.98, Testing Loss: 0.5746, Accuracy: 76.65\n",
      "Epoch: 16/80 \t Training Loss: 0.4648, Accuracy: 73.39, Testing Loss: 0.6032, Accuracy: 74.45\n",
      "Epoch: 17/80 \t Training Loss: 0.4321, Accuracy: 74.69, Testing Loss: 0.5717, Accuracy: 76.35\n",
      "Epoch: 18/80 \t Training Loss: 0.5235, Accuracy: 67.58, Testing Loss: 0.6344, Accuracy: 73.82\n",
      "Epoch: 19/80 \t Training Loss: 0.4241, Accuracy: 74.65, Testing Loss: 0.5814, Accuracy: 74.64\n",
      "Epoch: 20/80 \t Training Loss: 0.4088, Accuracy: 75.67, Testing Loss: 0.5508, Accuracy: 78.47\n",
      "Epoch: 21/80 \t Training Loss: 0.4041, Accuracy: 75.73, Testing Loss: 0.5412, Accuracy: 77.66\n",
      "Epoch: 22/80 \t Training Loss: 0.3779, Accuracy: 76.99, Testing Loss: 0.5178, Accuracy: 79.91\n",
      "Epoch: 23/80 \t Training Loss: 0.3973, Accuracy: 77.16, Testing Loss: 0.5337, Accuracy: 78.93\n",
      "Epoch: 24/80 \t Training Loss: 0.3760, Accuracy: 78.30, Testing Loss: 0.5159, Accuracy: 79.15\n",
      "Epoch: 25/80 \t Training Loss: 0.3751, Accuracy: 78.39, Testing Loss: 0.5467, Accuracy: 76.13\n",
      "Epoch: 26/80 \t Training Loss: 0.3815, Accuracy: 77.01, Testing Loss: 0.5293, Accuracy: 78.96\n",
      "Epoch: 27/80 \t Training Loss: 0.3562, Accuracy: 79.25, Testing Loss: 0.5321, Accuracy: 79.45\n",
      "Epoch: 28/80 \t Training Loss: 0.3390, Accuracy: 79.86, Testing Loss: 0.4835, Accuracy: 79.91\n",
      "Epoch: 29/80 \t Training Loss: 0.3392, Accuracy: 79.72, Testing Loss: 0.4789, Accuracy: 81.14\n",
      "Epoch: 30/80 \t Training Loss: 0.3513, Accuracy: 79.79, Testing Loss: 0.4847, Accuracy: 80.08\n",
      "Epoch: 31/80 \t Training Loss: 0.3347, Accuracy: 80.73, Testing Loss: 0.5217, Accuracy: 78.74\n",
      "Epoch: 32/80 \t Training Loss: 0.3224, Accuracy: 80.99, Testing Loss: 0.4766, Accuracy: 81.05\n",
      "Epoch: 33/80 \t Training Loss: 0.3325, Accuracy: 80.67, Testing Loss: 0.4683, Accuracy: 81.65\n",
      "Epoch: 34/80 \t Training Loss: 0.3230, Accuracy: 80.68, Testing Loss: 0.4441, Accuracy: 82.09\n",
      "Epoch: 35/80 \t Training Loss: 0.3130, Accuracy: 81.73, Testing Loss: 0.4583, Accuracy: 81.05\n",
      "Epoch: 36/80 \t Training Loss: 0.3085, Accuracy: 82.35, Testing Loss: 0.5080, Accuracy: 79.86\n",
      "Epoch: 37/80 \t Training Loss: 0.3042, Accuracy: 82.17, Testing Loss: 0.4339, Accuracy: 82.90\n",
      "Epoch: 38/80 \t Training Loss: 0.2950, Accuracy: 82.77, Testing Loss: 0.4259, Accuracy: 83.28\n",
      "Epoch: 39/80 \t Training Loss: 0.2967, Accuracy: 82.62, Testing Loss: 0.4347, Accuracy: 82.58\n",
      "Epoch: 40/80 \t Training Loss: 0.2945, Accuracy: 83.11, Testing Loss: 0.4265, Accuracy: 83.53\n",
      "Epoch: 41/80 \t Training Loss: 0.2930, Accuracy: 83.04, Testing Loss: 0.4235, Accuracy: 82.52\n",
      "Epoch: 42/80 \t Training Loss: 0.2805, Accuracy: 84.14, Testing Loss: 0.4081, Accuracy: 83.94\n",
      "Epoch: 43/80 \t Training Loss: 0.2938, Accuracy: 83.31, Testing Loss: 0.4114, Accuracy: 83.58\n",
      "Epoch: 44/80 \t Training Loss: 0.2780, Accuracy: 84.15, Testing Loss: 0.4043, Accuracy: 84.04\n",
      "Epoch: 45/80 \t Training Loss: 0.2593, Accuracy: 84.79, Testing Loss: 0.3875, Accuracy: 84.43\n",
      "Epoch: 46/80 \t Training Loss: 0.2697, Accuracy: 85.11, Testing Loss: 0.4024, Accuracy: 83.17\n",
      "Epoch: 47/80 \t Training Loss: 0.2542, Accuracy: 84.60, Testing Loss: 0.4018, Accuracy: 84.78\n",
      "Epoch: 48/80 \t Training Loss: 0.2428, Accuracy: 85.88, Testing Loss: 0.4006, Accuracy: 83.26\n",
      "Epoch: 49/80 \t Training Loss: 0.2499, Accuracy: 86.23, Testing Loss: 0.4316, Accuracy: 82.47\n",
      "Epoch: 50/80 \t Training Loss: 0.2428, Accuracy: 85.95, Testing Loss: 0.4149, Accuracy: 83.83\n",
      "Epoch: 51/80 \t Training Loss: 0.2392, Accuracy: 86.56, Testing Loss: 0.3750, Accuracy: 85.32\n",
      "Epoch: 52/80 \t Training Loss: 0.2276, Accuracy: 86.94, Testing Loss: 0.3791, Accuracy: 86.35\n",
      "Epoch: 53/80 \t Training Loss: 0.2407, Accuracy: 86.32, Testing Loss: 0.3722, Accuracy: 85.35\n",
      "Epoch: 54/80 \t Training Loss: 0.2237, Accuracy: 86.91, Testing Loss: 0.3813, Accuracy: 84.10\n",
      "Epoch: 55/80 \t Training Loss: 0.2043, Accuracy: 87.42, Testing Loss: 0.3474, Accuracy: 86.41\n",
      "Epoch: 56/80 \t Training Loss: 0.2173, Accuracy: 87.31, Testing Loss: 0.3512, Accuracy: 86.60\n",
      "Epoch: 57/80 \t Training Loss: 0.2004, Accuracy: 88.55, Testing Loss: 0.3576, Accuracy: 86.33\n",
      "Epoch: 58/80 \t Training Loss: 0.2158, Accuracy: 88.52, Testing Loss: 0.3721, Accuracy: 85.29\n",
      "Epoch: 59/80 \t Training Loss: 0.2067, Accuracy: 88.13, Testing Loss: 0.3249, Accuracy: 87.61\n",
      "Epoch: 60/80 \t Training Loss: 0.1866, Accuracy: 89.64, Testing Loss: 0.3151, Accuracy: 88.72\n",
      "Epoch: 61/80 \t Training Loss: 0.1777, Accuracy: 89.52, Testing Loss: 0.3274, Accuracy: 88.07\n",
      "Epoch: 62/80 \t Training Loss: 0.1837, Accuracy: 89.31, Testing Loss: 0.3323, Accuracy: 87.20\n",
      "Epoch: 63/80 \t Training Loss: 0.1722, Accuracy: 90.23, Testing Loss: 0.2950, Accuracy: 89.13\n",
      "Epoch: 64/80 \t Training Loss: 0.1761, Accuracy: 89.89, Testing Loss: 0.3135, Accuracy: 87.93\n",
      "Epoch: 65/80 \t Training Loss: 0.1855, Accuracy: 90.02, Testing Loss: 0.3452, Accuracy: 86.41\n",
      "Epoch: 66/80 \t Training Loss: 0.1790, Accuracy: 90.65, Testing Loss: 0.3066, Accuracy: 88.20\n",
      "Epoch: 67/80 \t Training Loss: 0.1601, Accuracy: 90.63, Testing Loss: 0.3193, Accuracy: 88.07\n",
      "Epoch: 68/80 \t Training Loss: 0.1539, Accuracy: 91.24, Testing Loss: 0.3030, Accuracy: 88.56\n",
      "Epoch: 69/80 \t Training Loss: 0.1470, Accuracy: 91.43, Testing Loss: 0.3039, Accuracy: 88.39\n",
      "Epoch: 70/80 \t Training Loss: 0.1543, Accuracy: 91.64, Testing Loss: 0.3147, Accuracy: 87.74\n",
      "Epoch: 71/80 \t Training Loss: 0.1480, Accuracy: 91.64, Testing Loss: 0.2901, Accuracy: 89.05\n",
      "Epoch: 72/80 \t Training Loss: 0.1353, Accuracy: 92.43, Testing Loss: 0.3157, Accuracy: 88.75\n",
      "Epoch: 73/80 \t Training Loss: 0.1352, Accuracy: 92.22, Testing Loss: 0.2901, Accuracy: 89.18\n",
      "Epoch: 74/80 \t Training Loss: 0.1272, Accuracy: 92.71, Testing Loss: 0.2936, Accuracy: 89.40\n",
      "Epoch: 75/80 \t Training Loss: 0.1223, Accuracy: 93.09, Testing Loss: 0.3042, Accuracy: 88.99\n",
      "Epoch: 76/80 \t Training Loss: 0.1298, Accuracy: 92.76, Testing Loss: 0.3188, Accuracy: 88.53\n",
      "Epoch: 77/80 \t Training Loss: 0.1308, Accuracy: 92.69, Testing Loss: 0.2990, Accuracy: 88.23\n",
      "Epoch: 78/80 \t Training Loss: 0.1188, Accuracy: 93.23, Testing Loss: 0.2789, Accuracy: 89.70\n",
      "Epoch: 79/80 \t Training Loss: 0.1130, Accuracy: 93.48, Testing Loss: 0.2932, Accuracy: 89.62\n",
      "Epoch: 80/80 \t Training Loss: 0.1182, Accuracy: 93.96, Testing Loss: 0.2925, Accuracy: 89.13\n"
     ]
    }
   ],
   "source": [
    "train_model(80, train_loader, val_loader, criterion, optimizer, device, model_on_device)"
   ]
  },
  {
   "cell_type": "code",
   "execution_count": 13,
   "metadata": {},
   "outputs": [],
   "source": [
    "torch.save(model_on_device, \"model_cnn.pth\")"
   ]
  },
  {
   "cell_type": "code",
   "execution_count": null,
   "metadata": {},
   "outputs": [],
   "source": [
    "dummy_input = torch.randn(128, 1, 128, 44, device='cuda')\n",
    "torch.onnx.export(model_on_device, dummy_input, \"output/model.onnx\") "
   ]
  },
  {
   "cell_type": "code",
   "execution_count": 52,
   "metadata": {},
   "outputs": [
    {
     "output_type": "execute_result",
     "data": {
      "text/plain": [
       "(0.23116093925360975, 91.92715411796684)"
      ]
     },
     "metadata": {},
     "execution_count": 52
    }
   ],
   "source": [
    "# Evaluate model performance on test data\n",
    "evaluate_model(test_loader, device, model_on_device, criterion)"
   ]
  },
  {
   "cell_type": "code",
   "execution_count": 28,
   "metadata": {},
   "outputs": [],
   "source": [
    "# Save the model\n",
    "torch.save(model_on_device, \"model.pth\")"
   ]
  }
 ]
}