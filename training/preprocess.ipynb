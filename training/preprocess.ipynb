{
 "cells": [
  {
   "cell_type": "code",
   "execution_count": 1,
   "metadata": {},
   "outputs": [
    {
     "ename": "ModuleNotFoundError",
     "evalue": "No module named 'torch2trt'",
     "output_type": "error",
     "traceback": [
      "\u001b[1;31m---------------------------------------------------------------------------\u001b[0m",
      "\u001b[1;31mModuleNotFoundError\u001b[0m                       Traceback (most recent call last)",
      "\u001b[1;32m<ipython-input-1-0e0f3cf28491>\u001b[0m in \u001b[0;36m<module>\u001b[1;34m\u001b[0m\n\u001b[0;32m      4\u001b[0m \u001b[1;32mfrom\u001b[0m \u001b[0mmatplotlib\u001b[0m \u001b[1;32mimport\u001b[0m \u001b[0mpyplot\u001b[0m \u001b[1;32mas\u001b[0m \u001b[0mplt\u001b[0m\u001b[1;33m\u001b[0m\u001b[1;33m\u001b[0m\u001b[0m\n\u001b[0;32m      5\u001b[0m \u001b[1;32mimport\u001b[0m \u001b[0mtime\u001b[0m\u001b[1;33m\u001b[0m\u001b[1;33m\u001b[0m\u001b[0m\n\u001b[1;32m----> 6\u001b[1;33m \u001b[1;32mfrom\u001b[0m \u001b[0mtorch2trt\u001b[0m \u001b[1;32mimport\u001b[0m \u001b[0mTRTModule\u001b[0m\u001b[1;33m\u001b[0m\u001b[1;33m\u001b[0m\u001b[0m\n\u001b[0m\u001b[0;32m      7\u001b[0m \u001b[1;32mfrom\u001b[0m \u001b[0mtorch2trt\u001b[0m \u001b[1;32mimport\u001b[0m \u001b[0mtorch2trt\u001b[0m\u001b[1;33m\u001b[0m\u001b[1;33m\u001b[0m\u001b[0m\n\u001b[0;32m      8\u001b[0m \u001b[1;32mfrom\u001b[0m \u001b[0mmodels\u001b[0m\u001b[1;33m.\u001b[0m\u001b[0mCNN\u001b[0m \u001b[1;32mimport\u001b[0m \u001b[0mErnNet\u001b[0m\u001b[1;33m\u001b[0m\u001b[1;33m\u001b[0m\u001b[0m\n",
      "\u001b[1;31mModuleNotFoundError\u001b[0m: No module named 'torch2trt'"
     ]
    }
   ],
   "source": [
    "import torch\n",
    "import scipy.signal as signal\n",
    "import numpy as np\n",
    "from matplotlib import pyplot as plt\n",
    "import time\n",
    "from torch2trt import TRTModule\n",
    "from torch2trt import torch2trt\n",
    "from models.CNN import ErnNet\n",
    "from utils import get_pytorch_model"
   ]
  },
  {
   "cell_type": "code",
   "execution_count": null,
   "metadata": {},
   "outputs": [],
   "source": [
    "# x = torch.randn(40000,num_points, dtype=torch.cfloat)"
   ]
  },
  {
   "cell_type": "code",
   "execution_count": null,
   "metadata": {},
   "outputs": [],
   "source": [
    "def get_start_points_x(width, slice_width, overlap_x):\n",
    "    x_points = [0]\n",
    "    stride = int(slice_width * (1 - overlap_x))\n",
    "    counter = 1\n",
    "    while True:\n",
    "        pt = stride * counter\n",
    "        if pt + slice_width >= width:\n",
    "            x_points.append(width - slice_width)\n",
    "            break\n",
    "        else:\n",
    "            x_points.append(pt)\n",
    "        counter += 1\n",
    "    return x_points\n",
    "\n",
    "def get_total_inference_time(self, model, num_loops):\n",
    "    \"\"\"Returns the total inference time on all the loops\"\"\"\n",
    "    # Wait for all kernels in all streams on the CUDA device to complete.\n",
    "    torch.cuda.current_stream().synchronize()\n",
    "\n",
    "    # GPU warmup\n",
    "    for _ in range(10):\n",
    "        _ = model(self.input_data_batch)\n",
    "\n",
    "    t0 = time.time()\n",
    "    for _ in range(num_loops):\n",
    "        _ = model(self.input_data_batch)\n",
    "        torch.cuda.current_stream().synchronize()\n",
    "    t1 = time.time()\n",
    "\n",
    "    return t1 - t0"
   ]
  },
  {
   "cell_type": "code",
   "execution_count": 7,
   "metadata": {},
   "outputs": [
    {
     "ename": "NameError",
     "evalue": "name 'TRTModule' is not defined",
     "output_type": "error",
     "traceback": [
      "\u001b[1;31m---------------------------------------------------------------------------\u001b[0m",
      "\u001b[1;31mNameError\u001b[0m                                 Traceback (most recent call last)",
      "\u001b[1;32m<ipython-input-7-b2523b570795>\u001b[0m in \u001b[0;36m<module>\u001b[1;34m\u001b[0m\n\u001b[0;32m      1\u001b[0m \u001b[1;31m# Load model\u001b[0m\u001b[1;33m\u001b[0m\u001b[1;33m\u001b[0m\u001b[1;33m\u001b[0m\u001b[0m\n\u001b[1;32m----> 2\u001b[1;33m \u001b[0mmodel_trt\u001b[0m \u001b[1;33m=\u001b[0m \u001b[0mTRTModule\u001b[0m\u001b[1;33m(\u001b[0m\u001b[1;33m)\u001b[0m\u001b[1;33m\u001b[0m\u001b[1;33m\u001b[0m\u001b[0m\n\u001b[0m\u001b[0;32m      3\u001b[0m \u001b[0mmodel_trt\u001b[0m\u001b[1;33m.\u001b[0m\u001b[0mload_state_dict\u001b[0m\u001b[1;33m(\u001b[0m\u001b[0mtorch\u001b[0m\u001b[1;33m.\u001b[0m\u001b[0mload\u001b[0m\u001b[1;33m(\u001b[0m\u001b[1;34m'trt_models/model_trt_int8.pth'\u001b[0m\u001b[1;33m)\u001b[0m\u001b[1;33m)\u001b[0m\u001b[1;33m\u001b[0m\u001b[1;33m\u001b[0m\u001b[0m\n",
      "\u001b[1;31mNameError\u001b[0m: name 'TRTModule' is not defined"
     ]
    }
   ],
   "source": [
    "# Load model\n",
    "model_trt = TRTModule()\n",
    "model_trt.load_state_dict(torch.load('trt_models/model_trt_int8.pth'))"
   ]
  },
  {
   "cell_type": "code",
   "execution_count": 4,
   "metadata": {},
   "outputs": [
    {
     "name": "stdout",
     "output_type": "stream",
     "text": [
      "2856\n"
     ]
    },
    {
     "name": "stderr",
     "output_type": "stream",
     "text": [
      "C:\\Users\\nyasha\\anaconda3\\envs\\masters\\lib\\site-packages\\scipy\\signal\\spectral.py:1812: UserWarning: Input data is complex, switching to return_onesided=False\n",
      "  warnings.warn('Input data is complex, switching to '\n"
     ]
    },
    {
     "data": {
      "text/plain": [
       "(128, 45)"
      ]
     },
     "execution_count": 4,
     "metadata": {},
     "output_type": "execute_result"
    }
   ],
   "source": [
    "fs = 714 # Sampling frequency\n",
    "nperseg = 128 # Length of each segment\n",
    "noverlap = 64 # Number of overlapping points between segments\n",
    "nfft = 128 # Length of FFT\n",
    "dwell_time = 4\n",
    "num_points = np.int64(np.floor(dwell_time* fs))\n",
    "print(num_points)\n",
    "\n",
    "# Remember what Robert said about 64 and 32 when creating arrays\n",
    "\n",
    "x = np.random.random(num_points) + np.random.random(num_points) * 1j\n",
    "\n",
    "f, t, Zxx = signal.stft(x, fs=fs, window='hamming', nperseg=nperseg, noverlap=noverlap, nfft=nfft, detrend=False, return_onesided=True, boundary='zeros', padded=False, axis=- 1)\n",
    "# plt.pcolormesh(t, f, np.abs(Zxx))\n",
    "\n",
    "fft_dB =20*np.log10(np.abs(Zxx))\n",
    "\n",
    "fft_dB.shape"
   ]
  },
  {
   "cell_type": "code",
   "execution_count": 81,
   "metadata": {},
   "outputs": [
    {
     "data": {
      "text/plain": [
       "32130"
      ]
     },
     "execution_count": 81,
     "metadata": {},
     "output_type": "execute_result"
    }
   ],
   "source": [
    "714*45"
   ]
  },
  {
   "cell_type": "code",
   "execution_count": 78,
   "metadata": {},
   "outputs": [
    {
     "name": "stdout",
     "output_type": "stream",
     "text": [
      "Equal\n",
      "0.0005512237548828125\n",
      "0.0004677772521972656\n",
      "0.0004417896270751953\n"
     ]
    }
   ],
   "source": [
    "# Check to see how the stft function is working\n",
    "x = torch.randn(2,num_points, dtype=torch.cfloat)\n",
    "x0 = x[0]\n",
    "x1 = x[1]\n",
    "\n",
    "f, t, Zxx = signal.stft(x, fs=fs, window='hamming', nperseg=nperseg, noverlap=noverlap, nfft=nfft, detrend=False, return_onesided=True, boundary='zeros', padded=False, axis=- 1)\n",
    "\n",
    "t0 = time.time()\n",
    "f, t, Zxx = signal.stft(x, fs=fs, window='hamming', nperseg=nperseg, noverlap=noverlap, nfft=nfft, detrend=False, return_onesided=True, boundary='zeros', padded=False, axis=- 1)\n",
    "\n",
    "t1 = time.time()\n",
    "f, t, Zxx0 = signal.stft(x0, fs=fs, window='hamming', nperseg=nperseg, noverlap=noverlap, nfft=nfft, detrend=False, return_onesided=True, boundary='zeros', padded=False, axis=- 1)\n",
    "\n",
    "t2 = time.time()\n",
    "f, t, Zxx1 = signal.stft(x1, fs=fs, window='hamming', nperseg=nperseg, noverlap=noverlap, nfft=nfft, detrend=False, return_onesided=True, boundary='zeros', padded=False, axis=- 1)\n",
    "\n",
    "t3 = time.time()\n",
    "\n",
    "if np.array_equal(Zxx[0], Zxx0) and np.array_equal(Zxx[1],Zxx1):\n",
    "    print('Equal')\n",
    "\n",
    "print(t1-t0)\n",
    "print(t2-t1)\n",
    "print(t3-t2)"
   ]
  },
  {
   "cell_type": "code",
   "execution_count": 66,
   "metadata": {},
   "outputs": [
    {
     "name": "stdout",
     "output_type": "stream",
     "text": [
      "0.0004565715789794922\n",
      "0.0003662109375\n",
      "0.0003800392150878906\n"
     ]
    }
   ],
   "source": [
    "\n"
   ]
  },
  {
   "cell_type": "code",
   "execution_count": 35,
   "metadata": {},
   "outputs": [
    {
     "name": "stdout",
     "output_type": "stream",
     "text": [
      "Equal\n"
     ]
    }
   ],
   "source": [
    "if np.array_equal(Zxx[0], Zxx0) and np.array_equal(Zxx[1],Zxx1):\n",
    "    print('Equal')\n"
   ]
  },
  {
   "cell_type": "code",
   "execution_count": 10,
   "metadata": {},
   "outputs": [],
   "source": [
    "# num_points = np.int64(np.floor(dwell_time* fs))\n",
    "# print(num_points)\n",
    "x = torch.randn(40_000,num_points, dtype=torch.cfloat)\n",
    "f, t, Zxx = signal.stft(x, fs=fs, window='hamming', nperseg=nperseg, noverlap=noverlap, nfft=nfft, detrend=False, return_onesided=False, axis=- 1)\n"
   ]
  },
  {
   "cell_type": "code",
   "execution_count": 11,
   "metadata": {},
   "outputs": [
    {
     "data": {
      "text/plain": [
       "(40000, 128, 46)"
      ]
     },
     "execution_count": 11,
     "metadata": {},
     "output_type": "execute_result"
    }
   ],
   "source": [
    "Zxx.shape"
   ]
  },
  {
   "cell_type": "code",
   "execution_count": 79,
   "metadata": {},
   "outputs": [
    {
     "name": "stdout",
     "output_type": "stream",
     "text": [
      "40000\n"
     ]
    }
   ],
   "source": [
    "x = torch.randn(40000,num_points, dtype=torch.cfloat)\n",
    "print(len(x))\n",
    "\n",
    "# Get the short-term fourier transform of the signal\n",
    "f, t, Zxx = signal.stft(x, fs=fs, window='hamming', nperseg=nperseg, noverlap=noverlap, nfft=nfft, detrend=False, return_onesided=True, boundary='zeros', padded=False, axis=- 1)\n",
    "# plt.pcolormesh(t, f, np.abs(Zxx))\n",
    "\n",
    "Zxx_tensor = torch.from_numpy(Zxx)\n",
    "\n",
    "# print(type(Zxx))\n",
    "# # Converting to dB\n",
    "# Zxx_tensor = torch.from_numpy(Zxx)\n",
    "# fft_dB = 20*torch.log10(torch.abs(Zxx_tensor))\n",
    "# # fft_dB.shape\n",
    "\n",
    "# width = fft_dB.shape[1]\n",
    "# fft_dB.shape\n",
    "\n",
    "\n",
    "Zxx_tensor = torch.from_numpy(Zxx)\n",
    "\n",
    "# Zxx = torch.randn(128,45)\n",
    "\n",
    "# Converting to dB\n",
    "fft_dB = 20*torch.log10(torch.abs(Zxx_tensor))\n",
    "_ = model_trt(fft_dB.cuda())"
   ]
  },
  {
   "cell_type": "code",
   "execution_count": 59,
   "metadata": {},
   "outputs": [
    {
     "data": {
      "text/plain": [
       "2856"
      ]
     },
     "execution_count": 59,
     "metadata": {},
     "output_type": "execute_result"
    }
   ],
   "source": [
    "num_points"
   ]
  },
  {
   "cell_type": "code",
   "execution_count": 1,
   "metadata": {},
   "outputs": [
    {
     "data": {
      "text/plain": [
       "2856"
      ]
     },
     "execution_count": 1,
     "metadata": {},
     "output_type": "execute_result"
    }
   ],
   "source": [
    "714*4"
   ]
  },
  {
   "cell_type": "code",
   "execution_count": 8,
   "metadata": {},
   "outputs": [
    {
     "name": "stderr",
     "output_type": "stream",
     "text": [
      "/home/nyasha/anaconda3/envs/thesis/lib/python3.8/site-packages/scipy/signal/spectral.py:1812: UserWarning: Input data is complex, switching to return_onesided=False\n",
      "  warnings.warn('Input data is complex, switching to '\n"
     ]
    }
   ],
   "source": [
    "num_range_bins = 36000\n",
    "fs = 714 # Sampling frequency\n",
    "nperseg = 128 # Length of each segment\n",
    "noverlap = 64 # Number of overlapping points between segments\n",
    "nfft = 128 # Length of FFT\n",
    "dwell_time = 4\n",
    "slice_width = 45\n",
    "overlap = 0.5\n",
    "num_points = np.int64(np.floor(dwell_time* fs))\n",
    "classified_imgs = 0\n",
    "num_loops = 10\n",
    "times = []\n",
    "num_range_bins_array = np.arange(10000, 50000, 5000)\n",
    "\n",
    "torch.cuda.current_stream().synchronize()\n",
    "# GPU warmup\n",
    "for _ in range(100):\n",
    "    _ = model_trt(torch.randn((1, 1, 128, 45)).cuda())\n",
    "\n",
    "for num_range_bins in num_range_bins_array:\n",
    "    # Start counter\n",
    "    range_bin_times = []\n",
    "    t0 = time.time()\n",
    "\n",
    "    for _ in range(num_loops):\n",
    "        # Creating the samples\n",
    "        t2 = time.time()\n",
    "        x = torch.randn(num_range_bins, num_points, dtype=torch.cfloat)\n",
    "\n",
    "        # Get the short-term fourier transform of the signal\n",
    "\n",
    "        ## maybe switch torch to numpy\n",
    "\n",
    "        f, t, Zxx = signal.stft(x, fs=fs, window='hamming', nperseg=nperseg, \n",
    "                                noverlap=noverlap, nfft=nfft, detrend=False, \n",
    "                                return_onesided=False, axis=-1)\n",
    "\n",
    "        Zxx_tensor = torch.from_numpy(Zxx)\n",
    "        # Zxx_tensor = torch.randn(num_range_bins, 128,45)\n",
    "\n",
    "        # Converting to dB\n",
    "        fft_dB = 20*torch.log10(torch.abs(Zxx_tensor))\n",
    "        _ = model_trt(fft_dB.cuda())\n",
    "\n",
    "        t3 = time.time()\n",
    "\n",
    "        range_bin_times.append (t3-t2)\n",
    "\n",
    "    times.append((range_bin_times))\n",
    "\n"
   ]
  },
  {
   "cell_type": "code",
   "execution_count": 18,
   "metadata": {},
   "outputs": [],
   "source": [
    "num_range_bins_array = np.arange(10000, 45000, 5000)"
   ]
  },
  {
   "cell_type": "code",
   "execution_count": 20,
   "metadata": {},
   "outputs": [
    {
     "data": {
      "text/plain": [
       "Text(0, 0.5, 'Processing Time (s)')"
      ]
     },
     "execution_count": 20,
     "metadata": {},
     "output_type": "execute_result"
    },
    {
     "data": {
      "text/plain": [
       "<Figure size 720x720 with 1 Axes>"
      ],
      "image/svg+xml": "<?xml version=\"1.0\" encoding=\"utf-8\" standalone=\"no\"?>\n<!DOCTYPE svg PUBLIC \"-//W3C//DTD SVG 1.1//EN\"\n  \"http://www.w3.org/Graphics/SVG/1.1/DTD/svg11.dtd\">\n<!-- Created with matplotlib (https://matplotlib.org/) -->\n<svg height=\"603.474375pt\" version=\"1.1\" viewBox=\"0 0 599.440625 603.474375\" width=\"599.440625pt\" xmlns=\"http://www.w3.org/2000/svg\" xmlns:xlink=\"http://www.w3.org/1999/xlink\">\n <metadata>\n  <rdf:RDF xmlns:cc=\"http://creativecommons.org/ns#\" xmlns:dc=\"http://purl.org/dc/elements/1.1/\" xmlns:rdf=\"http://www.w3.org/1999/02/22-rdf-syntax-ns#\">\n   <cc:Work>\n    <dc:type rdf:resource=\"http://purl.org/dc/dcmitype/StillImage\"/>\n    <dc:date>2021-09-22T19:36:25.327039</dc:date>\n    <dc:format>image/svg+xml</dc:format>\n    <dc:creator>\n     <cc:Agent>\n      <dc:title>Matplotlib v3.3.4, https://matplotlib.org/</dc:title>\n     </cc:Agent>\n    </dc:creator>\n   </cc:Work>\n  </rdf:RDF>\n </metadata>\n <defs>\n  <style type=\"text/css\">*{stroke-linecap:butt;stroke-linejoin:round;}</style>\n </defs>\n <g id=\"figure_1\">\n  <g id=\"patch_1\">\n   <path d=\"M 0 603.474375 \nL 599.440625 603.474375 \nL 599.440625 0 \nL 0 0 \nz\n\" style=\"fill:none;\"/>\n  </g>\n  <g id=\"axes_1\">\n   <g id=\"patch_2\">\n    <path d=\"M 34.240625 565.918125 \nL 592.240625 565.918125 \nL 592.240625 22.318125 \nL 34.240625 22.318125 \nz\n\" style=\"fill:#ffffff;\"/>\n   </g>\n   <g id=\"matplotlib.axis_1\">\n    <g id=\"xtick_1\">\n     <g id=\"line2d_1\">\n      <defs>\n       <path d=\"M 0 0 \nL 0 3.5 \n\" id=\"m646313c9db\" style=\"stroke:#000000;stroke-width:0.8;\"/>\n      </defs>\n      <g>\n       <use style=\"stroke:#000000;stroke-width:0.8;\" x=\"69.115625\" xlink:href=\"#m646313c9db\" y=\"565.918125\"/>\n      </g>\n     </g>\n     <g id=\"text_1\">\n      <!-- 10000 -->\n      <g transform=\"translate(53.209375 580.516562)scale(0.1 -0.1)\">\n       <defs>\n        <path d=\"M 12.40625 8.296875 \nL 28.515625 8.296875 \nL 28.515625 63.921875 \nL 10.984375 60.40625 \nL 10.984375 69.390625 \nL 28.421875 72.90625 \nL 38.28125 72.90625 \nL 38.28125 8.296875 \nL 54.390625 8.296875 \nL 54.390625 0 \nL 12.40625 0 \nz\n\" id=\"DejaVuSans-49\"/>\n        <path d=\"M 31.78125 66.40625 \nQ 24.171875 66.40625 20.328125 58.90625 \nQ 16.5 51.421875 16.5 36.375 \nQ 16.5 21.390625 20.328125 13.890625 \nQ 24.171875 6.390625 31.78125 6.390625 \nQ 39.453125 6.390625 43.28125 13.890625 \nQ 47.125 21.390625 47.125 36.375 \nQ 47.125 51.421875 43.28125 58.90625 \nQ 39.453125 66.40625 31.78125 66.40625 \nz\nM 31.78125 74.21875 \nQ 44.046875 74.21875 50.515625 64.515625 \nQ 56.984375 54.828125 56.984375 36.375 \nQ 56.984375 17.96875 50.515625 8.265625 \nQ 44.046875 -1.421875 31.78125 -1.421875 \nQ 19.53125 -1.421875 13.0625 8.265625 \nQ 6.59375 17.96875 6.59375 36.375 \nQ 6.59375 54.828125 13.0625 64.515625 \nQ 19.53125 74.21875 31.78125 74.21875 \nz\n\" id=\"DejaVuSans-48\"/>\n       </defs>\n       <use xlink:href=\"#DejaVuSans-49\"/>\n       <use x=\"63.623047\" xlink:href=\"#DejaVuSans-48\"/>\n       <use x=\"127.246094\" xlink:href=\"#DejaVuSans-48\"/>\n       <use x=\"190.869141\" xlink:href=\"#DejaVuSans-48\"/>\n       <use x=\"254.492188\" xlink:href=\"#DejaVuSans-48\"/>\n      </g>\n     </g>\n    </g>\n    <g id=\"xtick_2\">\n     <g id=\"line2d_2\">\n      <g>\n       <use style=\"stroke:#000000;stroke-width:0.8;\" x=\"138.865625\" xlink:href=\"#m646313c9db\" y=\"565.918125\"/>\n      </g>\n     </g>\n     <g id=\"text_2\">\n      <!-- 15000 -->\n      <g transform=\"translate(122.959375 580.516562)scale(0.1 -0.1)\">\n       <defs>\n        <path d=\"M 10.796875 72.90625 \nL 49.515625 72.90625 \nL 49.515625 64.59375 \nL 19.828125 64.59375 \nL 19.828125 46.734375 \nQ 21.96875 47.46875 24.109375 47.828125 \nQ 26.265625 48.1875 28.421875 48.1875 \nQ 40.625 48.1875 47.75 41.5 \nQ 54.890625 34.8125 54.890625 23.390625 \nQ 54.890625 11.625 47.5625 5.09375 \nQ 40.234375 -1.421875 26.90625 -1.421875 \nQ 22.3125 -1.421875 17.546875 -0.640625 \nQ 12.796875 0.140625 7.71875 1.703125 \nL 7.71875 11.625 \nQ 12.109375 9.234375 16.796875 8.0625 \nQ 21.484375 6.890625 26.703125 6.890625 \nQ 35.15625 6.890625 40.078125 11.328125 \nQ 45.015625 15.765625 45.015625 23.390625 \nQ 45.015625 31 40.078125 35.4375 \nQ 35.15625 39.890625 26.703125 39.890625 \nQ 22.75 39.890625 18.8125 39.015625 \nQ 14.890625 38.140625 10.796875 36.28125 \nz\n\" id=\"DejaVuSans-53\"/>\n       </defs>\n       <use xlink:href=\"#DejaVuSans-49\"/>\n       <use x=\"63.623047\" xlink:href=\"#DejaVuSans-53\"/>\n       <use x=\"127.246094\" xlink:href=\"#DejaVuSans-48\"/>\n       <use x=\"190.869141\" xlink:href=\"#DejaVuSans-48\"/>\n       <use x=\"254.492188\" xlink:href=\"#DejaVuSans-48\"/>\n      </g>\n     </g>\n    </g>\n    <g id=\"xtick_3\">\n     <g id=\"line2d_3\">\n      <g>\n       <use style=\"stroke:#000000;stroke-width:0.8;\" x=\"208.615625\" xlink:href=\"#m646313c9db\" y=\"565.918125\"/>\n      </g>\n     </g>\n     <g id=\"text_3\">\n      <!-- 20000 -->\n      <g transform=\"translate(192.709375 580.516562)scale(0.1 -0.1)\">\n       <defs>\n        <path d=\"M 19.1875 8.296875 \nL 53.609375 8.296875 \nL 53.609375 0 \nL 7.328125 0 \nL 7.328125 8.296875 \nQ 12.9375 14.109375 22.625 23.890625 \nQ 32.328125 33.6875 34.8125 36.53125 \nQ 39.546875 41.84375 41.421875 45.53125 \nQ 43.3125 49.21875 43.3125 52.78125 \nQ 43.3125 58.59375 39.234375 62.25 \nQ 35.15625 65.921875 28.609375 65.921875 \nQ 23.96875 65.921875 18.8125 64.3125 \nQ 13.671875 62.703125 7.8125 59.421875 \nL 7.8125 69.390625 \nQ 13.765625 71.78125 18.9375 73 \nQ 24.125 74.21875 28.421875 74.21875 \nQ 39.75 74.21875 46.484375 68.546875 \nQ 53.21875 62.890625 53.21875 53.421875 \nQ 53.21875 48.921875 51.53125 44.890625 \nQ 49.859375 40.875 45.40625 35.40625 \nQ 44.1875 33.984375 37.640625 27.21875 \nQ 31.109375 20.453125 19.1875 8.296875 \nz\n\" id=\"DejaVuSans-50\"/>\n       </defs>\n       <use xlink:href=\"#DejaVuSans-50\"/>\n       <use x=\"63.623047\" xlink:href=\"#DejaVuSans-48\"/>\n       <use x=\"127.246094\" xlink:href=\"#DejaVuSans-48\"/>\n       <use x=\"190.869141\" xlink:href=\"#DejaVuSans-48\"/>\n       <use x=\"254.492188\" xlink:href=\"#DejaVuSans-48\"/>\n      </g>\n     </g>\n    </g>\n    <g id=\"xtick_4\">\n     <g id=\"line2d_4\">\n      <g>\n       <use style=\"stroke:#000000;stroke-width:0.8;\" x=\"278.365625\" xlink:href=\"#m646313c9db\" y=\"565.918125\"/>\n      </g>\n     </g>\n     <g id=\"text_4\">\n      <!-- 25000 -->\n      <g transform=\"translate(262.459375 580.516562)scale(0.1 -0.1)\">\n       <use xlink:href=\"#DejaVuSans-50\"/>\n       <use x=\"63.623047\" xlink:href=\"#DejaVuSans-53\"/>\n       <use x=\"127.246094\" xlink:href=\"#DejaVuSans-48\"/>\n       <use x=\"190.869141\" xlink:href=\"#DejaVuSans-48\"/>\n       <use x=\"254.492188\" xlink:href=\"#DejaVuSans-48\"/>\n      </g>\n     </g>\n    </g>\n    <g id=\"xtick_5\">\n     <g id=\"line2d_5\">\n      <g>\n       <use style=\"stroke:#000000;stroke-width:0.8;\" x=\"348.115625\" xlink:href=\"#m646313c9db\" y=\"565.918125\"/>\n      </g>\n     </g>\n     <g id=\"text_5\">\n      <!-- 30000 -->\n      <g transform=\"translate(332.209375 580.516562)scale(0.1 -0.1)\">\n       <defs>\n        <path d=\"M 40.578125 39.3125 \nQ 47.65625 37.796875 51.625 33 \nQ 55.609375 28.21875 55.609375 21.1875 \nQ 55.609375 10.40625 48.1875 4.484375 \nQ 40.765625 -1.421875 27.09375 -1.421875 \nQ 22.515625 -1.421875 17.65625 -0.515625 \nQ 12.796875 0.390625 7.625 2.203125 \nL 7.625 11.71875 \nQ 11.71875 9.328125 16.59375 8.109375 \nQ 21.484375 6.890625 26.8125 6.890625 \nQ 36.078125 6.890625 40.9375 10.546875 \nQ 45.796875 14.203125 45.796875 21.1875 \nQ 45.796875 27.640625 41.28125 31.265625 \nQ 36.765625 34.90625 28.71875 34.90625 \nL 20.21875 34.90625 \nL 20.21875 43.015625 \nL 29.109375 43.015625 \nQ 36.375 43.015625 40.234375 45.921875 \nQ 44.09375 48.828125 44.09375 54.296875 \nQ 44.09375 59.90625 40.109375 62.90625 \nQ 36.140625 65.921875 28.71875 65.921875 \nQ 24.65625 65.921875 20.015625 65.03125 \nQ 15.375 64.15625 9.8125 62.3125 \nL 9.8125 71.09375 \nQ 15.4375 72.65625 20.34375 73.4375 \nQ 25.25 74.21875 29.59375 74.21875 \nQ 40.828125 74.21875 47.359375 69.109375 \nQ 53.90625 64.015625 53.90625 55.328125 \nQ 53.90625 49.265625 50.4375 45.09375 \nQ 46.96875 40.921875 40.578125 39.3125 \nz\n\" id=\"DejaVuSans-51\"/>\n       </defs>\n       <use xlink:href=\"#DejaVuSans-51\"/>\n       <use x=\"63.623047\" xlink:href=\"#DejaVuSans-48\"/>\n       <use x=\"127.246094\" xlink:href=\"#DejaVuSans-48\"/>\n       <use x=\"190.869141\" xlink:href=\"#DejaVuSans-48\"/>\n       <use x=\"254.492188\" xlink:href=\"#DejaVuSans-48\"/>\n      </g>\n     </g>\n    </g>\n    <g id=\"xtick_6\">\n     <g id=\"line2d_6\">\n      <g>\n       <use style=\"stroke:#000000;stroke-width:0.8;\" x=\"417.865625\" xlink:href=\"#m646313c9db\" y=\"565.918125\"/>\n      </g>\n     </g>\n     <g id=\"text_6\">\n      <!-- 35000 -->\n      <g transform=\"translate(401.959375 580.516562)scale(0.1 -0.1)\">\n       <use xlink:href=\"#DejaVuSans-51\"/>\n       <use x=\"63.623047\" xlink:href=\"#DejaVuSans-53\"/>\n       <use x=\"127.246094\" xlink:href=\"#DejaVuSans-48\"/>\n       <use x=\"190.869141\" xlink:href=\"#DejaVuSans-48\"/>\n       <use x=\"254.492188\" xlink:href=\"#DejaVuSans-48\"/>\n      </g>\n     </g>\n    </g>\n    <g id=\"xtick_7\">\n     <g id=\"line2d_7\">\n      <g>\n       <use style=\"stroke:#000000;stroke-width:0.8;\" x=\"487.615625\" xlink:href=\"#m646313c9db\" y=\"565.918125\"/>\n      </g>\n     </g>\n     <g id=\"text_7\">\n      <!-- 40000 -->\n      <g transform=\"translate(471.709375 580.516562)scale(0.1 -0.1)\">\n       <defs>\n        <path d=\"M 37.796875 64.3125 \nL 12.890625 25.390625 \nL 37.796875 25.390625 \nz\nM 35.203125 72.90625 \nL 47.609375 72.90625 \nL 47.609375 25.390625 \nL 58.015625 25.390625 \nL 58.015625 17.1875 \nL 47.609375 17.1875 \nL 47.609375 0 \nL 37.796875 0 \nL 37.796875 17.1875 \nL 4.890625 17.1875 \nL 4.890625 26.703125 \nz\n\" id=\"DejaVuSans-52\"/>\n       </defs>\n       <use xlink:href=\"#DejaVuSans-52\"/>\n       <use x=\"63.623047\" xlink:href=\"#DejaVuSans-48\"/>\n       <use x=\"127.246094\" xlink:href=\"#DejaVuSans-48\"/>\n       <use x=\"190.869141\" xlink:href=\"#DejaVuSans-48\"/>\n       <use x=\"254.492188\" xlink:href=\"#DejaVuSans-48\"/>\n      </g>\n     </g>\n    </g>\n    <g id=\"xtick_8\">\n     <g id=\"line2d_8\">\n      <g>\n       <use style=\"stroke:#000000;stroke-width:0.8;\" x=\"557.365625\" xlink:href=\"#m646313c9db\" y=\"565.918125\"/>\n      </g>\n     </g>\n     <g id=\"text_8\">\n      <!-- 45000 -->\n      <g transform=\"translate(541.459375 580.516562)scale(0.1 -0.1)\">\n       <use xlink:href=\"#DejaVuSans-52\"/>\n       <use x=\"63.623047\" xlink:href=\"#DejaVuSans-53\"/>\n       <use x=\"127.246094\" xlink:href=\"#DejaVuSans-48\"/>\n       <use x=\"190.869141\" xlink:href=\"#DejaVuSans-48\"/>\n       <use x=\"254.492188\" xlink:href=\"#DejaVuSans-48\"/>\n      </g>\n     </g>\n    </g>\n    <g id=\"text_9\">\n     <!-- Number of Range Bins -->\n     <g transform=\"translate(257.129688 594.194687)scale(0.1 -0.1)\">\n      <defs>\n       <path d=\"M 9.8125 72.90625 \nL 23.09375 72.90625 \nL 55.421875 11.921875 \nL 55.421875 72.90625 \nL 64.984375 72.90625 \nL 64.984375 0 \nL 51.703125 0 \nL 19.390625 60.984375 \nL 19.390625 0 \nL 9.8125 0 \nz\n\" id=\"DejaVuSans-78\"/>\n       <path d=\"M 8.5 21.578125 \nL 8.5 54.6875 \nL 17.484375 54.6875 \nL 17.484375 21.921875 \nQ 17.484375 14.15625 20.5 10.265625 \nQ 23.53125 6.390625 29.59375 6.390625 \nQ 36.859375 6.390625 41.078125 11.03125 \nQ 45.3125 15.671875 45.3125 23.6875 \nL 45.3125 54.6875 \nL 54.296875 54.6875 \nL 54.296875 0 \nL 45.3125 0 \nL 45.3125 8.40625 \nQ 42.046875 3.421875 37.71875 1 \nQ 33.40625 -1.421875 27.6875 -1.421875 \nQ 18.265625 -1.421875 13.375 4.4375 \nQ 8.5 10.296875 8.5 21.578125 \nz\nM 31.109375 56 \nz\n\" id=\"DejaVuSans-117\"/>\n       <path d=\"M 52 44.1875 \nQ 55.375 50.25 60.0625 53.125 \nQ 64.75 56 71.09375 56 \nQ 79.640625 56 84.28125 50.015625 \nQ 88.921875 44.046875 88.921875 33.015625 \nL 88.921875 0 \nL 79.890625 0 \nL 79.890625 32.71875 \nQ 79.890625 40.578125 77.09375 44.375 \nQ 74.3125 48.1875 68.609375 48.1875 \nQ 61.625 48.1875 57.5625 43.546875 \nQ 53.515625 38.921875 53.515625 30.90625 \nL 53.515625 0 \nL 44.484375 0 \nL 44.484375 32.71875 \nQ 44.484375 40.625 41.703125 44.40625 \nQ 38.921875 48.1875 33.109375 48.1875 \nQ 26.21875 48.1875 22.15625 43.53125 \nQ 18.109375 38.875 18.109375 30.90625 \nL 18.109375 0 \nL 9.078125 0 \nL 9.078125 54.6875 \nL 18.109375 54.6875 \nL 18.109375 46.1875 \nQ 21.1875 51.21875 25.484375 53.609375 \nQ 29.78125 56 35.6875 56 \nQ 41.65625 56 45.828125 52.96875 \nQ 50 49.953125 52 44.1875 \nz\n\" id=\"DejaVuSans-109\"/>\n       <path d=\"M 48.6875 27.296875 \nQ 48.6875 37.203125 44.609375 42.84375 \nQ 40.53125 48.484375 33.40625 48.484375 \nQ 26.265625 48.484375 22.1875 42.84375 \nQ 18.109375 37.203125 18.109375 27.296875 \nQ 18.109375 17.390625 22.1875 11.75 \nQ 26.265625 6.109375 33.40625 6.109375 \nQ 40.53125 6.109375 44.609375 11.75 \nQ 48.6875 17.390625 48.6875 27.296875 \nz\nM 18.109375 46.390625 \nQ 20.953125 51.265625 25.265625 53.625 \nQ 29.59375 56 35.59375 56 \nQ 45.5625 56 51.78125 48.09375 \nQ 58.015625 40.1875 58.015625 27.296875 \nQ 58.015625 14.40625 51.78125 6.484375 \nQ 45.5625 -1.421875 35.59375 -1.421875 \nQ 29.59375 -1.421875 25.265625 0.953125 \nQ 20.953125 3.328125 18.109375 8.203125 \nL 18.109375 0 \nL 9.078125 0 \nL 9.078125 75.984375 \nL 18.109375 75.984375 \nz\n\" id=\"DejaVuSans-98\"/>\n       <path d=\"M 56.203125 29.59375 \nL 56.203125 25.203125 \nL 14.890625 25.203125 \nQ 15.484375 15.921875 20.484375 11.0625 \nQ 25.484375 6.203125 34.421875 6.203125 \nQ 39.59375 6.203125 44.453125 7.46875 \nQ 49.3125 8.734375 54.109375 11.28125 \nL 54.109375 2.78125 \nQ 49.265625 0.734375 44.1875 -0.34375 \nQ 39.109375 -1.421875 33.890625 -1.421875 \nQ 20.796875 -1.421875 13.15625 6.1875 \nQ 5.515625 13.8125 5.515625 26.8125 \nQ 5.515625 40.234375 12.765625 48.109375 \nQ 20.015625 56 32.328125 56 \nQ 43.359375 56 49.78125 48.890625 \nQ 56.203125 41.796875 56.203125 29.59375 \nz\nM 47.21875 32.234375 \nQ 47.125 39.59375 43.09375 43.984375 \nQ 39.0625 48.390625 32.421875 48.390625 \nQ 24.90625 48.390625 20.390625 44.140625 \nQ 15.875 39.890625 15.1875 32.171875 \nz\n\" id=\"DejaVuSans-101\"/>\n       <path d=\"M 41.109375 46.296875 \nQ 39.59375 47.171875 37.8125 47.578125 \nQ 36.03125 48 33.890625 48 \nQ 26.265625 48 22.1875 43.046875 \nQ 18.109375 38.09375 18.109375 28.8125 \nL 18.109375 0 \nL 9.078125 0 \nL 9.078125 54.6875 \nL 18.109375 54.6875 \nL 18.109375 46.1875 \nQ 20.953125 51.171875 25.484375 53.578125 \nQ 30.03125 56 36.53125 56 \nQ 37.453125 56 38.578125 55.875 \nQ 39.703125 55.765625 41.0625 55.515625 \nz\n\" id=\"DejaVuSans-114\"/>\n       <path id=\"DejaVuSans-32\"/>\n       <path d=\"M 30.609375 48.390625 \nQ 23.390625 48.390625 19.1875 42.75 \nQ 14.984375 37.109375 14.984375 27.296875 \nQ 14.984375 17.484375 19.15625 11.84375 \nQ 23.34375 6.203125 30.609375 6.203125 \nQ 37.796875 6.203125 41.984375 11.859375 \nQ 46.1875 17.53125 46.1875 27.296875 \nQ 46.1875 37.015625 41.984375 42.703125 \nQ 37.796875 48.390625 30.609375 48.390625 \nz\nM 30.609375 56 \nQ 42.328125 56 49.015625 48.375 \nQ 55.71875 40.765625 55.71875 27.296875 \nQ 55.71875 13.875 49.015625 6.21875 \nQ 42.328125 -1.421875 30.609375 -1.421875 \nQ 18.84375 -1.421875 12.171875 6.21875 \nQ 5.515625 13.875 5.515625 27.296875 \nQ 5.515625 40.765625 12.171875 48.375 \nQ 18.84375 56 30.609375 56 \nz\n\" id=\"DejaVuSans-111\"/>\n       <path d=\"M 37.109375 75.984375 \nL 37.109375 68.5 \nL 28.515625 68.5 \nQ 23.6875 68.5 21.796875 66.546875 \nQ 19.921875 64.59375 19.921875 59.515625 \nL 19.921875 54.6875 \nL 34.71875 54.6875 \nL 34.71875 47.703125 \nL 19.921875 47.703125 \nL 19.921875 0 \nL 10.890625 0 \nL 10.890625 47.703125 \nL 2.296875 47.703125 \nL 2.296875 54.6875 \nL 10.890625 54.6875 \nL 10.890625 58.5 \nQ 10.890625 67.625 15.140625 71.796875 \nQ 19.390625 75.984375 28.609375 75.984375 \nz\n\" id=\"DejaVuSans-102\"/>\n       <path d=\"M 44.390625 34.1875 \nQ 47.5625 33.109375 50.5625 29.59375 \nQ 53.5625 26.078125 56.59375 19.921875 \nL 66.609375 0 \nL 56 0 \nL 46.6875 18.703125 \nQ 43.0625 26.03125 39.671875 28.421875 \nQ 36.28125 30.8125 30.421875 30.8125 \nL 19.671875 30.8125 \nL 19.671875 0 \nL 9.8125 0 \nL 9.8125 72.90625 \nL 32.078125 72.90625 \nQ 44.578125 72.90625 50.734375 67.671875 \nQ 56.890625 62.453125 56.890625 51.90625 \nQ 56.890625 45.015625 53.6875 40.46875 \nQ 50.484375 35.9375 44.390625 34.1875 \nz\nM 19.671875 64.796875 \nL 19.671875 38.921875 \nL 32.078125 38.921875 \nQ 39.203125 38.921875 42.84375 42.21875 \nQ 46.484375 45.515625 46.484375 51.90625 \nQ 46.484375 58.296875 42.84375 61.546875 \nQ 39.203125 64.796875 32.078125 64.796875 \nz\n\" id=\"DejaVuSans-82\"/>\n       <path d=\"M 34.28125 27.484375 \nQ 23.390625 27.484375 19.1875 25 \nQ 14.984375 22.515625 14.984375 16.5 \nQ 14.984375 11.71875 18.140625 8.90625 \nQ 21.296875 6.109375 26.703125 6.109375 \nQ 34.1875 6.109375 38.703125 11.40625 \nQ 43.21875 16.703125 43.21875 25.484375 \nL 43.21875 27.484375 \nz\nM 52.203125 31.203125 \nL 52.203125 0 \nL 43.21875 0 \nL 43.21875 8.296875 \nQ 40.140625 3.328125 35.546875 0.953125 \nQ 30.953125 -1.421875 24.3125 -1.421875 \nQ 15.921875 -1.421875 10.953125 3.296875 \nQ 6 8.015625 6 15.921875 \nQ 6 25.140625 12.171875 29.828125 \nQ 18.359375 34.515625 30.609375 34.515625 \nL 43.21875 34.515625 \nL 43.21875 35.40625 \nQ 43.21875 41.609375 39.140625 45 \nQ 35.0625 48.390625 27.6875 48.390625 \nQ 23 48.390625 18.546875 47.265625 \nQ 14.109375 46.140625 10.015625 43.890625 \nL 10.015625 52.203125 \nQ 14.9375 54.109375 19.578125 55.046875 \nQ 24.21875 56 28.609375 56 \nQ 40.484375 56 46.34375 49.84375 \nQ 52.203125 43.703125 52.203125 31.203125 \nz\n\" id=\"DejaVuSans-97\"/>\n       <path d=\"M 54.890625 33.015625 \nL 54.890625 0 \nL 45.90625 0 \nL 45.90625 32.71875 \nQ 45.90625 40.484375 42.875 44.328125 \nQ 39.84375 48.1875 33.796875 48.1875 \nQ 26.515625 48.1875 22.3125 43.546875 \nQ 18.109375 38.921875 18.109375 30.90625 \nL 18.109375 0 \nL 9.078125 0 \nL 9.078125 54.6875 \nL 18.109375 54.6875 \nL 18.109375 46.1875 \nQ 21.34375 51.125 25.703125 53.5625 \nQ 30.078125 56 35.796875 56 \nQ 45.21875 56 50.046875 50.171875 \nQ 54.890625 44.34375 54.890625 33.015625 \nz\n\" id=\"DejaVuSans-110\"/>\n       <path d=\"M 45.40625 27.984375 \nQ 45.40625 37.75 41.375 43.109375 \nQ 37.359375 48.484375 30.078125 48.484375 \nQ 22.859375 48.484375 18.828125 43.109375 \nQ 14.796875 37.75 14.796875 27.984375 \nQ 14.796875 18.265625 18.828125 12.890625 \nQ 22.859375 7.515625 30.078125 7.515625 \nQ 37.359375 7.515625 41.375 12.890625 \nQ 45.40625 18.265625 45.40625 27.984375 \nz\nM 54.390625 6.78125 \nQ 54.390625 -7.171875 48.1875 -13.984375 \nQ 42 -20.796875 29.203125 -20.796875 \nQ 24.46875 -20.796875 20.265625 -20.09375 \nQ 16.0625 -19.390625 12.109375 -17.921875 \nL 12.109375 -9.1875 \nQ 16.0625 -11.328125 19.921875 -12.34375 \nQ 23.78125 -13.375 27.78125 -13.375 \nQ 36.625 -13.375 41.015625 -8.765625 \nQ 45.40625 -4.15625 45.40625 5.171875 \nL 45.40625 9.625 \nQ 42.625 4.78125 38.28125 2.390625 \nQ 33.9375 0 27.875 0 \nQ 17.828125 0 11.671875 7.65625 \nQ 5.515625 15.328125 5.515625 27.984375 \nQ 5.515625 40.671875 11.671875 48.328125 \nQ 17.828125 56 27.875 56 \nQ 33.9375 56 38.28125 53.609375 \nQ 42.625 51.21875 45.40625 46.390625 \nL 45.40625 54.6875 \nL 54.390625 54.6875 \nz\n\" id=\"DejaVuSans-103\"/>\n       <path d=\"M 19.671875 34.8125 \nL 19.671875 8.109375 \nL 35.5 8.109375 \nQ 43.453125 8.109375 47.28125 11.40625 \nQ 51.125 14.703125 51.125 21.484375 \nQ 51.125 28.328125 47.28125 31.5625 \nQ 43.453125 34.8125 35.5 34.8125 \nz\nM 19.671875 64.796875 \nL 19.671875 42.828125 \nL 34.28125 42.828125 \nQ 41.5 42.828125 45.03125 45.53125 \nQ 48.578125 48.25 48.578125 53.8125 \nQ 48.578125 59.328125 45.03125 62.0625 \nQ 41.5 64.796875 34.28125 64.796875 \nz\nM 9.8125 72.90625 \nL 35.015625 72.90625 \nQ 46.296875 72.90625 52.390625 68.21875 \nQ 58.5 63.53125 58.5 54.890625 \nQ 58.5 48.1875 55.375 44.234375 \nQ 52.25 40.28125 46.1875 39.3125 \nQ 53.46875 37.75 57.5 32.78125 \nQ 61.53125 27.828125 61.53125 20.40625 \nQ 61.53125 10.640625 54.890625 5.3125 \nQ 48.25 0 35.984375 0 \nL 9.8125 0 \nz\n\" id=\"DejaVuSans-66\"/>\n       <path d=\"M 9.421875 54.6875 \nL 18.40625 54.6875 \nL 18.40625 0 \nL 9.421875 0 \nz\nM 9.421875 75.984375 \nL 18.40625 75.984375 \nL 18.40625 64.59375 \nL 9.421875 64.59375 \nz\n\" id=\"DejaVuSans-105\"/>\n       <path d=\"M 44.28125 53.078125 \nL 44.28125 44.578125 \nQ 40.484375 46.53125 36.375 47.5 \nQ 32.28125 48.484375 27.875 48.484375 \nQ 21.1875 48.484375 17.84375 46.4375 \nQ 14.5 44.390625 14.5 40.28125 \nQ 14.5 37.15625 16.890625 35.375 \nQ 19.28125 33.59375 26.515625 31.984375 \nL 29.59375 31.296875 \nQ 39.15625 29.25 43.1875 25.515625 \nQ 47.21875 21.78125 47.21875 15.09375 \nQ 47.21875 7.46875 41.1875 3.015625 \nQ 35.15625 -1.421875 24.609375 -1.421875 \nQ 20.21875 -1.421875 15.453125 -0.5625 \nQ 10.6875 0.296875 5.421875 2 \nL 5.421875 11.28125 \nQ 10.40625 8.6875 15.234375 7.390625 \nQ 20.0625 6.109375 24.8125 6.109375 \nQ 31.15625 6.109375 34.5625 8.28125 \nQ 37.984375 10.453125 37.984375 14.40625 \nQ 37.984375 18.0625 35.515625 20.015625 \nQ 33.0625 21.96875 24.703125 23.78125 \nL 21.578125 24.515625 \nQ 13.234375 26.265625 9.515625 29.90625 \nQ 5.8125 33.546875 5.8125 39.890625 \nQ 5.8125 47.609375 11.28125 51.796875 \nQ 16.75 56 26.8125 56 \nQ 31.78125 56 36.171875 55.265625 \nQ 40.578125 54.546875 44.28125 53.078125 \nz\n\" id=\"DejaVuSans-115\"/>\n      </defs>\n      <use xlink:href=\"#DejaVuSans-78\"/>\n      <use x=\"74.804688\" xlink:href=\"#DejaVuSans-117\"/>\n      <use x=\"138.183594\" xlink:href=\"#DejaVuSans-109\"/>\n      <use x=\"235.595703\" xlink:href=\"#DejaVuSans-98\"/>\n      <use x=\"299.072266\" xlink:href=\"#DejaVuSans-101\"/>\n      <use x=\"360.595703\" xlink:href=\"#DejaVuSans-114\"/>\n      <use x=\"401.708984\" xlink:href=\"#DejaVuSans-32\"/>\n      <use x=\"433.496094\" xlink:href=\"#DejaVuSans-111\"/>\n      <use x=\"494.677734\" xlink:href=\"#DejaVuSans-102\"/>\n      <use x=\"529.882812\" xlink:href=\"#DejaVuSans-32\"/>\n      <use x=\"561.669922\" xlink:href=\"#DejaVuSans-82\"/>\n      <use x=\"628.902344\" xlink:href=\"#DejaVuSans-97\"/>\n      <use x=\"690.181641\" xlink:href=\"#DejaVuSans-110\"/>\n      <use x=\"753.560547\" xlink:href=\"#DejaVuSans-103\"/>\n      <use x=\"817.037109\" xlink:href=\"#DejaVuSans-101\"/>\n      <use x=\"878.560547\" xlink:href=\"#DejaVuSans-32\"/>\n      <use x=\"910.347656\" xlink:href=\"#DejaVuSans-66\"/>\n      <use x=\"978.951172\" xlink:href=\"#DejaVuSans-105\"/>\n      <use x=\"1006.734375\" xlink:href=\"#DejaVuSans-110\"/>\n      <use x=\"1070.113281\" xlink:href=\"#DejaVuSans-115\"/>\n     </g>\n    </g>\n   </g>\n   <g id=\"matplotlib.axis_2\">\n    <g id=\"ytick_1\">\n     <g id=\"line2d_9\">\n      <defs>\n       <path d=\"M 0 0 \nL -3.5 0 \n\" id=\"m02fe75216f\" style=\"stroke:#000000;stroke-width:0.8;\"/>\n      </defs>\n      <g>\n       <use style=\"stroke:#000000;stroke-width:0.8;\" x=\"34.240625\" xlink:href=\"#m02fe75216f\" y=\"556.466623\"/>\n      </g>\n     </g>\n     <g id=\"text_10\">\n      <!-- 1 -->\n      <g transform=\"translate(20.878125 560.265842)scale(0.1 -0.1)\">\n       <use xlink:href=\"#DejaVuSans-49\"/>\n      </g>\n     </g>\n    </g>\n    <g id=\"ytick_2\">\n     <g id=\"line2d_10\">\n      <g>\n       <use style=\"stroke:#000000;stroke-width:0.8;\" x=\"34.240625\" xlink:href=\"#m02fe75216f\" y=\"447.787825\"/>\n      </g>\n     </g>\n     <g id=\"text_11\">\n      <!-- 2 -->\n      <g transform=\"translate(20.878125 451.587044)scale(0.1 -0.1)\">\n       <use xlink:href=\"#DejaVuSans-50\"/>\n      </g>\n     </g>\n    </g>\n    <g id=\"ytick_3\">\n     <g id=\"line2d_11\">\n      <g>\n       <use style=\"stroke:#000000;stroke-width:0.8;\" x=\"34.240625\" xlink:href=\"#m02fe75216f\" y=\"339.109027\"/>\n      </g>\n     </g>\n     <g id=\"text_12\">\n      <!-- 3 -->\n      <g transform=\"translate(20.878125 342.908245)scale(0.1 -0.1)\">\n       <use xlink:href=\"#DejaVuSans-51\"/>\n      </g>\n     </g>\n    </g>\n    <g id=\"ytick_4\">\n     <g id=\"line2d_12\">\n      <g>\n       <use style=\"stroke:#000000;stroke-width:0.8;\" x=\"34.240625\" xlink:href=\"#m02fe75216f\" y=\"230.430228\"/>\n      </g>\n     </g>\n     <g id=\"text_13\">\n      <!-- 4 -->\n      <g transform=\"translate(20.878125 234.229447)scale(0.1 -0.1)\">\n       <use xlink:href=\"#DejaVuSans-52\"/>\n      </g>\n     </g>\n    </g>\n    <g id=\"ytick_5\">\n     <g id=\"line2d_13\">\n      <g>\n       <use style=\"stroke:#000000;stroke-width:0.8;\" x=\"34.240625\" xlink:href=\"#m02fe75216f\" y=\"121.75143\"/>\n      </g>\n     </g>\n     <g id=\"text_14\">\n      <!-- 5 -->\n      <g transform=\"translate(20.878125 125.550649)scale(0.1 -0.1)\">\n       <use xlink:href=\"#DejaVuSans-53\"/>\n      </g>\n     </g>\n    </g>\n    <g id=\"text_15\">\n     <!-- Processing Time (s) -->\n     <g transform=\"translate(14.798438 342.732969)rotate(-90)scale(0.1 -0.1)\">\n      <defs>\n       <path d=\"M 19.671875 64.796875 \nL 19.671875 37.40625 \nL 32.078125 37.40625 \nQ 38.96875 37.40625 42.71875 40.96875 \nQ 46.484375 44.53125 46.484375 51.125 \nQ 46.484375 57.671875 42.71875 61.234375 \nQ 38.96875 64.796875 32.078125 64.796875 \nz\nM 9.8125 72.90625 \nL 32.078125 72.90625 \nQ 44.34375 72.90625 50.609375 67.359375 \nQ 56.890625 61.8125 56.890625 51.125 \nQ 56.890625 40.328125 50.609375 34.8125 \nQ 44.34375 29.296875 32.078125 29.296875 \nL 19.671875 29.296875 \nL 19.671875 0 \nL 9.8125 0 \nz\n\" id=\"DejaVuSans-80\"/>\n       <path d=\"M 48.78125 52.59375 \nL 48.78125 44.1875 \nQ 44.96875 46.296875 41.140625 47.34375 \nQ 37.3125 48.390625 33.40625 48.390625 \nQ 24.65625 48.390625 19.8125 42.84375 \nQ 14.984375 37.3125 14.984375 27.296875 \nQ 14.984375 17.28125 19.8125 11.734375 \nQ 24.65625 6.203125 33.40625 6.203125 \nQ 37.3125 6.203125 41.140625 7.25 \nQ 44.96875 8.296875 48.78125 10.40625 \nL 48.78125 2.09375 \nQ 45.015625 0.34375 40.984375 -0.53125 \nQ 36.96875 -1.421875 32.421875 -1.421875 \nQ 20.0625 -1.421875 12.78125 6.34375 \nQ 5.515625 14.109375 5.515625 27.296875 \nQ 5.515625 40.671875 12.859375 48.328125 \nQ 20.21875 56 33.015625 56 \nQ 37.15625 56 41.109375 55.140625 \nQ 45.0625 54.296875 48.78125 52.59375 \nz\n\" id=\"DejaVuSans-99\"/>\n       <path d=\"M -0.296875 72.90625 \nL 61.375 72.90625 \nL 61.375 64.59375 \nL 35.5 64.59375 \nL 35.5 0 \nL 25.59375 0 \nL 25.59375 64.59375 \nL -0.296875 64.59375 \nz\n\" id=\"DejaVuSans-84\"/>\n       <path d=\"M 31 75.875 \nQ 24.46875 64.65625 21.28125 53.65625 \nQ 18.109375 42.671875 18.109375 31.390625 \nQ 18.109375 20.125 21.3125 9.0625 \nQ 24.515625 -2 31 -13.1875 \nL 23.1875 -13.1875 \nQ 15.875 -1.703125 12.234375 9.375 \nQ 8.59375 20.453125 8.59375 31.390625 \nQ 8.59375 42.28125 12.203125 53.3125 \nQ 15.828125 64.359375 23.1875 75.875 \nz\n\" id=\"DejaVuSans-40\"/>\n       <path d=\"M 8.015625 75.875 \nL 15.828125 75.875 \nQ 23.140625 64.359375 26.78125 53.3125 \nQ 30.421875 42.28125 30.421875 31.390625 \nQ 30.421875 20.453125 26.78125 9.375 \nQ 23.140625 -1.703125 15.828125 -13.1875 \nL 8.015625 -13.1875 \nQ 14.5 -2 17.703125 9.0625 \nQ 20.90625 20.125 20.90625 31.390625 \nQ 20.90625 42.671875 17.703125 53.65625 \nQ 14.5 64.65625 8.015625 75.875 \nz\n\" id=\"DejaVuSans-41\"/>\n      </defs>\n      <use xlink:href=\"#DejaVuSans-80\"/>\n      <use x=\"58.552734\" xlink:href=\"#DejaVuSans-114\"/>\n      <use x=\"97.416016\" xlink:href=\"#DejaVuSans-111\"/>\n      <use x=\"158.597656\" xlink:href=\"#DejaVuSans-99\"/>\n      <use x=\"213.578125\" xlink:href=\"#DejaVuSans-101\"/>\n      <use x=\"275.101562\" xlink:href=\"#DejaVuSans-115\"/>\n      <use x=\"327.201172\" xlink:href=\"#DejaVuSans-115\"/>\n      <use x=\"379.300781\" xlink:href=\"#DejaVuSans-105\"/>\n      <use x=\"407.083984\" xlink:href=\"#DejaVuSans-110\"/>\n      <use x=\"470.462891\" xlink:href=\"#DejaVuSans-103\"/>\n      <use x=\"533.939453\" xlink:href=\"#DejaVuSans-32\"/>\n      <use x=\"565.726562\" xlink:href=\"#DejaVuSans-84\"/>\n      <use x=\"623.685547\" xlink:href=\"#DejaVuSans-105\"/>\n      <use x=\"651.46875\" xlink:href=\"#DejaVuSans-109\"/>\n      <use x=\"748.880859\" xlink:href=\"#DejaVuSans-101\"/>\n      <use x=\"810.404297\" xlink:href=\"#DejaVuSans-32\"/>\n      <use x=\"842.191406\" xlink:href=\"#DejaVuSans-40\"/>\n      <use x=\"881.205078\" xlink:href=\"#DejaVuSans-115\"/>\n      <use x=\"933.304688\" xlink:href=\"#DejaVuSans-41\"/>\n     </g>\n    </g>\n   </g>\n   <g id=\"line2d_14\">\n    <path clip-path=\"url(#p0d3b667a4c)\" d=\"M 51.678125 541.209034 \nL 86.553125 541.209034 \nL 86.553125 541.209034 \nL 51.678125 541.209034 \nL 51.678125 541.209034 \n\" style=\"fill:none;stroke:#000000;stroke-linecap:square;\"/>\n   </g>\n   <g id=\"line2d_15\">\n    <path clip-path=\"url(#p0d3b667a4c)\" d=\"M 69.115625 541.209034 \nL 69.115625 541.209034 \n\" style=\"fill:none;stroke:#000000;stroke-linecap:square;\"/>\n   </g>\n   <g id=\"line2d_16\">\n    <path clip-path=\"url(#p0d3b667a4c)\" d=\"M 69.115625 541.209034 \nL 69.115625 541.209034 \n\" style=\"fill:none;stroke:#000000;stroke-linecap:square;\"/>\n   </g>\n   <g id=\"line2d_17\">\n    <path clip-path=\"url(#p0d3b667a4c)\" d=\"M 60.396875 541.209034 \nL 77.834375 541.209034 \n\" style=\"fill:none;stroke:#000000;stroke-linecap:square;\"/>\n   </g>\n   <g id=\"line2d_18\">\n    <path clip-path=\"url(#p0d3b667a4c)\" d=\"M 60.396875 541.209034 \nL 77.834375 541.209034 \n\" style=\"fill:none;stroke:#000000;stroke-linecap:square;\"/>\n   </g>\n   <g id=\"line2d_19\"/>\n   <g id=\"line2d_20\">\n    <path clip-path=\"url(#p0d3b667a4c)\" d=\"M 121.428125 478.627383 \nL 156.303125 478.627383 \nL 156.303125 478.627383 \nL 121.428125 478.627383 \nL 121.428125 478.627383 \n\" style=\"fill:none;stroke:#000000;stroke-linecap:square;\"/>\n   </g>\n   <g id=\"line2d_21\">\n    <path clip-path=\"url(#p0d3b667a4c)\" d=\"M 138.865625 478.627383 \nL 138.865625 478.627383 \n\" style=\"fill:none;stroke:#000000;stroke-linecap:square;\"/>\n   </g>\n   <g id=\"line2d_22\">\n    <path clip-path=\"url(#p0d3b667a4c)\" d=\"M 138.865625 478.627383 \nL 138.865625 478.627383 \n\" style=\"fill:none;stroke:#000000;stroke-linecap:square;\"/>\n   </g>\n   <g id=\"line2d_23\">\n    <path clip-path=\"url(#p0d3b667a4c)\" d=\"M 130.146875 478.627383 \nL 147.584375 478.627383 \n\" style=\"fill:none;stroke:#000000;stroke-linecap:square;\"/>\n   </g>\n   <g id=\"line2d_24\">\n    <path clip-path=\"url(#p0d3b667a4c)\" d=\"M 130.146875 478.627383 \nL 147.584375 478.627383 \n\" style=\"fill:none;stroke:#000000;stroke-linecap:square;\"/>\n   </g>\n   <g id=\"line2d_25\"/>\n   <g id=\"line2d_26\">\n    <path clip-path=\"url(#p0d3b667a4c)\" d=\"M 191.178125 426.100825 \nL 226.053125 426.100825 \nL 226.053125 426.100825 \nL 191.178125 426.100825 \nL 191.178125 426.100825 \n\" style=\"fill:none;stroke:#000000;stroke-linecap:square;\"/>\n   </g>\n   <g id=\"line2d_27\">\n    <path clip-path=\"url(#p0d3b667a4c)\" d=\"M 208.615625 426.100825 \nL 208.615625 426.100825 \n\" style=\"fill:none;stroke:#000000;stroke-linecap:square;\"/>\n   </g>\n   <g id=\"line2d_28\">\n    <path clip-path=\"url(#p0d3b667a4c)\" d=\"M 208.615625 426.100825 \nL 208.615625 426.100825 \n\" style=\"fill:none;stroke:#000000;stroke-linecap:square;\"/>\n   </g>\n   <g id=\"line2d_29\">\n    <path clip-path=\"url(#p0d3b667a4c)\" d=\"M 199.896875 426.100825 \nL 217.334375 426.100825 \n\" style=\"fill:none;stroke:#000000;stroke-linecap:square;\"/>\n   </g>\n   <g id=\"line2d_30\">\n    <path clip-path=\"url(#p0d3b667a4c)\" d=\"M 199.896875 426.100825 \nL 217.334375 426.100825 \n\" style=\"fill:none;stroke:#000000;stroke-linecap:square;\"/>\n   </g>\n   <g id=\"line2d_31\"/>\n   <g id=\"line2d_32\">\n    <path clip-path=\"url(#p0d3b667a4c)\" d=\"M 260.928125 351.931625 \nL 295.803125 351.931625 \nL 295.803125 351.931625 \nL 260.928125 351.931625 \nL 260.928125 351.931625 \n\" style=\"fill:none;stroke:#000000;stroke-linecap:square;\"/>\n   </g>\n   <g id=\"line2d_33\">\n    <path clip-path=\"url(#p0d3b667a4c)\" d=\"M 278.365625 351.931625 \nL 278.365625 351.931625 \n\" style=\"fill:none;stroke:#000000;stroke-linecap:square;\"/>\n   </g>\n   <g id=\"line2d_34\">\n    <path clip-path=\"url(#p0d3b667a4c)\" d=\"M 278.365625 351.931625 \nL 278.365625 351.931625 \n\" style=\"fill:none;stroke:#000000;stroke-linecap:square;\"/>\n   </g>\n   <g id=\"line2d_35\">\n    <path clip-path=\"url(#p0d3b667a4c)\" d=\"M 269.646875 351.931625 \nL 287.084375 351.931625 \n\" style=\"fill:none;stroke:#000000;stroke-linecap:square;\"/>\n   </g>\n   <g id=\"line2d_36\">\n    <path clip-path=\"url(#p0d3b667a4c)\" d=\"M 269.646875 351.931625 \nL 287.084375 351.931625 \n\" style=\"fill:none;stroke:#000000;stroke-linecap:square;\"/>\n   </g>\n   <g id=\"line2d_37\"/>\n   <g id=\"line2d_38\">\n    <path clip-path=\"url(#p0d3b667a4c)\" d=\"M 330.678125 304.335031 \nL 365.553125 304.335031 \nL 365.553125 304.335031 \nL 330.678125 304.335031 \nL 330.678125 304.335031 \n\" style=\"fill:none;stroke:#000000;stroke-linecap:square;\"/>\n   </g>\n   <g id=\"line2d_39\">\n    <path clip-path=\"url(#p0d3b667a4c)\" d=\"M 348.115625 304.335031 \nL 348.115625 304.335031 \n\" style=\"fill:none;stroke:#000000;stroke-linecap:square;\"/>\n   </g>\n   <g id=\"line2d_40\">\n    <path clip-path=\"url(#p0d3b667a4c)\" d=\"M 348.115625 304.335031 \nL 348.115625 304.335031 \n\" style=\"fill:none;stroke:#000000;stroke-linecap:square;\"/>\n   </g>\n   <g id=\"line2d_41\">\n    <path clip-path=\"url(#p0d3b667a4c)\" d=\"M 339.396875 304.335031 \nL 356.834375 304.335031 \n\" style=\"fill:none;stroke:#000000;stroke-linecap:square;\"/>\n   </g>\n   <g id=\"line2d_42\">\n    <path clip-path=\"url(#p0d3b667a4c)\" d=\"M 339.396875 304.335031 \nL 356.834375 304.335031 \n\" style=\"fill:none;stroke:#000000;stroke-linecap:square;\"/>\n   </g>\n   <g id=\"line2d_43\"/>\n   <g id=\"line2d_44\">\n    <path clip-path=\"url(#p0d3b667a4c)\" d=\"M 400.428125 209.141481 \nL 435.303125 209.141481 \nL 435.303125 209.141481 \nL 400.428125 209.141481 \nL 400.428125 209.141481 \n\" style=\"fill:none;stroke:#000000;stroke-linecap:square;\"/>\n   </g>\n   <g id=\"line2d_45\">\n    <path clip-path=\"url(#p0d3b667a4c)\" d=\"M 417.865625 209.141481 \nL 417.865625 209.141481 \n\" style=\"fill:none;stroke:#000000;stroke-linecap:square;\"/>\n   </g>\n   <g id=\"line2d_46\">\n    <path clip-path=\"url(#p0d3b667a4c)\" d=\"M 417.865625 209.141481 \nL 417.865625 209.141481 \n\" style=\"fill:none;stroke:#000000;stroke-linecap:square;\"/>\n   </g>\n   <g id=\"line2d_47\">\n    <path clip-path=\"url(#p0d3b667a4c)\" d=\"M 409.146875 209.141481 \nL 426.584375 209.141481 \n\" style=\"fill:none;stroke:#000000;stroke-linecap:square;\"/>\n   </g>\n   <g id=\"line2d_48\">\n    <path clip-path=\"url(#p0d3b667a4c)\" d=\"M 409.146875 209.141481 \nL 426.584375 209.141481 \n\" style=\"fill:none;stroke:#000000;stroke-linecap:square;\"/>\n   </g>\n   <g id=\"line2d_49\"/>\n   <g id=\"line2d_50\">\n    <path clip-path=\"url(#p0d3b667a4c)\" d=\"M 470.178125 136.003696 \nL 505.053125 136.003696 \nL 505.053125 136.003696 \nL 470.178125 136.003696 \nL 470.178125 136.003696 \n\" style=\"fill:none;stroke:#000000;stroke-linecap:square;\"/>\n   </g>\n   <g id=\"line2d_51\">\n    <path clip-path=\"url(#p0d3b667a4c)\" d=\"M 487.615625 136.003696 \nL 487.615625 136.003696 \n\" style=\"fill:none;stroke:#000000;stroke-linecap:square;\"/>\n   </g>\n   <g id=\"line2d_52\">\n    <path clip-path=\"url(#p0d3b667a4c)\" d=\"M 487.615625 136.003696 \nL 487.615625 136.003696 \n\" style=\"fill:none;stroke:#000000;stroke-linecap:square;\"/>\n   </g>\n   <g id=\"line2d_53\">\n    <path clip-path=\"url(#p0d3b667a4c)\" d=\"M 478.896875 136.003696 \nL 496.334375 136.003696 \n\" style=\"fill:none;stroke:#000000;stroke-linecap:square;\"/>\n   </g>\n   <g id=\"line2d_54\">\n    <path clip-path=\"url(#p0d3b667a4c)\" d=\"M 478.896875 136.003696 \nL 496.334375 136.003696 \n\" style=\"fill:none;stroke:#000000;stroke-linecap:square;\"/>\n   </g>\n   <g id=\"line2d_55\"/>\n   <g id=\"line2d_56\">\n    <path clip-path=\"url(#p0d3b667a4c)\" d=\"M 539.928125 47.027216 \nL 574.803125 47.027216 \nL 574.803125 47.027216 \nL 539.928125 47.027216 \nL 539.928125 47.027216 \n\" style=\"fill:none;stroke:#000000;stroke-linecap:square;\"/>\n   </g>\n   <g id=\"line2d_57\">\n    <path clip-path=\"url(#p0d3b667a4c)\" d=\"M 557.365625 47.027216 \nL 557.365625 47.027216 \n\" style=\"fill:none;stroke:#000000;stroke-linecap:square;\"/>\n   </g>\n   <g id=\"line2d_58\">\n    <path clip-path=\"url(#p0d3b667a4c)\" d=\"M 557.365625 47.027216 \nL 557.365625 47.027216 \n\" style=\"fill:none;stroke:#000000;stroke-linecap:square;\"/>\n   </g>\n   <g id=\"line2d_59\">\n    <path clip-path=\"url(#p0d3b667a4c)\" d=\"M 548.646875 47.027216 \nL 566.084375 47.027216 \n\" style=\"fill:none;stroke:#000000;stroke-linecap:square;\"/>\n   </g>\n   <g id=\"line2d_60\">\n    <path clip-path=\"url(#p0d3b667a4c)\" d=\"M 548.646875 47.027216 \nL 566.084375 47.027216 \n\" style=\"fill:none;stroke:#000000;stroke-linecap:square;\"/>\n   </g>\n   <g id=\"line2d_61\"/>\n   <g id=\"line2d_62\">\n    <path clip-path=\"url(#p0d3b667a4c)\" d=\"M 51.678125 541.209034 \nL 86.553125 541.209034 \n\" style=\"fill:none;stroke:#ff7f0e;stroke-linecap:square;\"/>\n   </g>\n   <g id=\"line2d_63\">\n    <path clip-path=\"url(#p0d3b667a4c)\" d=\"M 121.428125 478.627383 \nL 156.303125 478.627383 \n\" style=\"fill:none;stroke:#ff7f0e;stroke-linecap:square;\"/>\n   </g>\n   <g id=\"line2d_64\">\n    <path clip-path=\"url(#p0d3b667a4c)\" d=\"M 191.178125 426.100825 \nL 226.053125 426.100825 \n\" style=\"fill:none;stroke:#ff7f0e;stroke-linecap:square;\"/>\n   </g>\n   <g id=\"line2d_65\">\n    <path clip-path=\"url(#p0d3b667a4c)\" d=\"M 260.928125 351.931625 \nL 295.803125 351.931625 \n\" style=\"fill:none;stroke:#ff7f0e;stroke-linecap:square;\"/>\n   </g>\n   <g id=\"line2d_66\">\n    <path clip-path=\"url(#p0d3b667a4c)\" d=\"M 330.678125 304.335031 \nL 365.553125 304.335031 \n\" style=\"fill:none;stroke:#ff7f0e;stroke-linecap:square;\"/>\n   </g>\n   <g id=\"line2d_67\">\n    <path clip-path=\"url(#p0d3b667a4c)\" d=\"M 400.428125 209.141481 \nL 435.303125 209.141481 \n\" style=\"fill:none;stroke:#ff7f0e;stroke-linecap:square;\"/>\n   </g>\n   <g id=\"line2d_68\">\n    <path clip-path=\"url(#p0d3b667a4c)\" d=\"M 470.178125 136.003696 \nL 505.053125 136.003696 \n\" style=\"fill:none;stroke:#ff7f0e;stroke-linecap:square;\"/>\n   </g>\n   <g id=\"line2d_69\">\n    <path clip-path=\"url(#p0d3b667a4c)\" d=\"M 539.928125 47.027216 \nL 574.803125 47.027216 \n\" style=\"fill:none;stroke:#ff7f0e;stroke-linecap:square;\"/>\n   </g>\n   <g id=\"patch_3\">\n    <path d=\"M 34.240625 565.918125 \nL 34.240625 22.318125 \n\" style=\"fill:none;stroke:#000000;stroke-linecap:square;stroke-linejoin:miter;stroke-width:0.8;\"/>\n   </g>\n   <g id=\"patch_4\">\n    <path d=\"M 592.240625 565.918125 \nL 592.240625 22.318125 \n\" style=\"fill:none;stroke:#000000;stroke-linecap:square;stroke-linejoin:miter;stroke-width:0.8;\"/>\n   </g>\n   <g id=\"patch_5\">\n    <path d=\"M 34.240625 565.918125 \nL 592.240625 565.918125 \n\" style=\"fill:none;stroke:#000000;stroke-linecap:square;stroke-linejoin:miter;stroke-width:0.8;\"/>\n   </g>\n   <g id=\"patch_6\">\n    <path d=\"M 34.240625 22.318125 \nL 592.240625 22.318125 \n\" style=\"fill:none;stroke:#000000;stroke-linecap:square;stroke-linejoin:miter;stroke-width:0.8;\"/>\n   </g>\n   <g id=\"text_16\">\n    <!-- Plot of number of ranges bins vs processing time (10 times for each number of range bins) -->\n    <g transform=\"translate(40.128125 16.318125)scale(0.12 -0.12)\">\n     <defs>\n      <path d=\"M 9.421875 75.984375 \nL 18.40625 75.984375 \nL 18.40625 0 \nL 9.421875 0 \nz\n\" id=\"DejaVuSans-108\"/>\n      <path d=\"M 18.3125 70.21875 \nL 18.3125 54.6875 \nL 36.8125 54.6875 \nL 36.8125 47.703125 \nL 18.3125 47.703125 \nL 18.3125 18.015625 \nQ 18.3125 11.328125 20.140625 9.421875 \nQ 21.96875 7.515625 27.59375 7.515625 \nL 36.8125 7.515625 \nL 36.8125 0 \nL 27.59375 0 \nQ 17.1875 0 13.234375 3.875 \nQ 9.28125 7.765625 9.28125 18.015625 \nL 9.28125 47.703125 \nL 2.6875 47.703125 \nL 2.6875 54.6875 \nL 9.28125 54.6875 \nL 9.28125 70.21875 \nz\n\" id=\"DejaVuSans-116\"/>\n      <path d=\"M 2.984375 54.6875 \nL 12.5 54.6875 \nL 29.59375 8.796875 \nL 46.6875 54.6875 \nL 56.203125 54.6875 \nL 35.6875 0 \nL 23.484375 0 \nz\n\" id=\"DejaVuSans-118\"/>\n      <path d=\"M 18.109375 8.203125 \nL 18.109375 -20.796875 \nL 9.078125 -20.796875 \nL 9.078125 54.6875 \nL 18.109375 54.6875 \nL 18.109375 46.390625 \nQ 20.953125 51.265625 25.265625 53.625 \nQ 29.59375 56 35.59375 56 \nQ 45.5625 56 51.78125 48.09375 \nQ 58.015625 40.1875 58.015625 27.296875 \nQ 58.015625 14.40625 51.78125 6.484375 \nQ 45.5625 -1.421875 35.59375 -1.421875 \nQ 29.59375 -1.421875 25.265625 0.953125 \nQ 20.953125 3.328125 18.109375 8.203125 \nz\nM 48.6875 27.296875 \nQ 48.6875 37.203125 44.609375 42.84375 \nQ 40.53125 48.484375 33.40625 48.484375 \nQ 26.265625 48.484375 22.1875 42.84375 \nQ 18.109375 37.203125 18.109375 27.296875 \nQ 18.109375 17.390625 22.1875 11.75 \nQ 26.265625 6.109375 33.40625 6.109375 \nQ 40.53125 6.109375 44.609375 11.75 \nQ 48.6875 17.390625 48.6875 27.296875 \nz\n\" id=\"DejaVuSans-112\"/>\n      <path d=\"M 54.890625 33.015625 \nL 54.890625 0 \nL 45.90625 0 \nL 45.90625 32.71875 \nQ 45.90625 40.484375 42.875 44.328125 \nQ 39.84375 48.1875 33.796875 48.1875 \nQ 26.515625 48.1875 22.3125 43.546875 \nQ 18.109375 38.921875 18.109375 30.90625 \nL 18.109375 0 \nL 9.078125 0 \nL 9.078125 75.984375 \nL 18.109375 75.984375 \nL 18.109375 46.1875 \nQ 21.34375 51.125 25.703125 53.5625 \nQ 30.078125 56 35.796875 56 \nQ 45.21875 56 50.046875 50.171875 \nQ 54.890625 44.34375 54.890625 33.015625 \nz\n\" id=\"DejaVuSans-104\"/>\n     </defs>\n     <use xlink:href=\"#DejaVuSans-80\"/>\n     <use x=\"60.302734\" xlink:href=\"#DejaVuSans-108\"/>\n     <use x=\"88.085938\" xlink:href=\"#DejaVuSans-111\"/>\n     <use x=\"149.267578\" xlink:href=\"#DejaVuSans-116\"/>\n     <use x=\"188.476562\" xlink:href=\"#DejaVuSans-32\"/>\n     <use x=\"220.263672\" xlink:href=\"#DejaVuSans-111\"/>\n     <use x=\"281.445312\" xlink:href=\"#DejaVuSans-102\"/>\n     <use x=\"316.650391\" xlink:href=\"#DejaVuSans-32\"/>\n     <use x=\"348.4375\" xlink:href=\"#DejaVuSans-110\"/>\n     <use x=\"411.816406\" xlink:href=\"#DejaVuSans-117\"/>\n     <use x=\"475.195312\" xlink:href=\"#DejaVuSans-109\"/>\n     <use x=\"572.607422\" xlink:href=\"#DejaVuSans-98\"/>\n     <use x=\"636.083984\" xlink:href=\"#DejaVuSans-101\"/>\n     <use x=\"697.607422\" xlink:href=\"#DejaVuSans-114\"/>\n     <use x=\"738.720703\" xlink:href=\"#DejaVuSans-32\"/>\n     <use x=\"770.507812\" xlink:href=\"#DejaVuSans-111\"/>\n     <use x=\"831.689453\" xlink:href=\"#DejaVuSans-102\"/>\n     <use x=\"866.894531\" xlink:href=\"#DejaVuSans-32\"/>\n     <use x=\"898.681641\" xlink:href=\"#DejaVuSans-114\"/>\n     <use x=\"939.794922\" xlink:href=\"#DejaVuSans-97\"/>\n     <use x=\"1001.074219\" xlink:href=\"#DejaVuSans-110\"/>\n     <use x=\"1064.453125\" xlink:href=\"#DejaVuSans-103\"/>\n     <use x=\"1127.929688\" xlink:href=\"#DejaVuSans-101\"/>\n     <use x=\"1189.453125\" xlink:href=\"#DejaVuSans-115\"/>\n     <use x=\"1241.552734\" xlink:href=\"#DejaVuSans-32\"/>\n     <use x=\"1273.339844\" xlink:href=\"#DejaVuSans-98\"/>\n     <use x=\"1336.816406\" xlink:href=\"#DejaVuSans-105\"/>\n     <use x=\"1364.599609\" xlink:href=\"#DejaVuSans-110\"/>\n     <use x=\"1427.978516\" xlink:href=\"#DejaVuSans-115\"/>\n     <use x=\"1480.078125\" xlink:href=\"#DejaVuSans-32\"/>\n     <use x=\"1511.865234\" xlink:href=\"#DejaVuSans-118\"/>\n     <use x=\"1571.044922\" xlink:href=\"#DejaVuSans-115\"/>\n     <use x=\"1623.144531\" xlink:href=\"#DejaVuSans-32\"/>\n     <use x=\"1654.931641\" xlink:href=\"#DejaVuSans-112\"/>\n     <use x=\"1718.408203\" xlink:href=\"#DejaVuSans-114\"/>\n     <use x=\"1757.271484\" xlink:href=\"#DejaVuSans-111\"/>\n     <use x=\"1818.453125\" xlink:href=\"#DejaVuSans-99\"/>\n     <use x=\"1873.433594\" xlink:href=\"#DejaVuSans-101\"/>\n     <use x=\"1934.957031\" xlink:href=\"#DejaVuSans-115\"/>\n     <use x=\"1987.056641\" xlink:href=\"#DejaVuSans-115\"/>\n     <use x=\"2039.15625\" xlink:href=\"#DejaVuSans-105\"/>\n     <use x=\"2066.939453\" xlink:href=\"#DejaVuSans-110\"/>\n     <use x=\"2130.318359\" xlink:href=\"#DejaVuSans-103\"/>\n     <use x=\"2193.794922\" xlink:href=\"#DejaVuSans-32\"/>\n     <use x=\"2225.582031\" xlink:href=\"#DejaVuSans-116\"/>\n     <use x=\"2264.791016\" xlink:href=\"#DejaVuSans-105\"/>\n     <use x=\"2292.574219\" xlink:href=\"#DejaVuSans-109\"/>\n     <use x=\"2389.986328\" xlink:href=\"#DejaVuSans-101\"/>\n     <use x=\"2451.509766\" xlink:href=\"#DejaVuSans-32\"/>\n     <use x=\"2483.296875\" xlink:href=\"#DejaVuSans-40\"/>\n     <use x=\"2522.310547\" xlink:href=\"#DejaVuSans-49\"/>\n     <use x=\"2585.933594\" xlink:href=\"#DejaVuSans-48\"/>\n     <use x=\"2649.556641\" xlink:href=\"#DejaVuSans-32\"/>\n     <use x=\"2681.34375\" xlink:href=\"#DejaVuSans-116\"/>\n     <use x=\"2720.552734\" xlink:href=\"#DejaVuSans-105\"/>\n     <use x=\"2748.335938\" xlink:href=\"#DejaVuSans-109\"/>\n     <use x=\"2845.748047\" xlink:href=\"#DejaVuSans-101\"/>\n     <use x=\"2907.271484\" xlink:href=\"#DejaVuSans-115\"/>\n     <use x=\"2959.371094\" xlink:href=\"#DejaVuSans-32\"/>\n     <use x=\"2991.158203\" xlink:href=\"#DejaVuSans-102\"/>\n     <use x=\"3026.363281\" xlink:href=\"#DejaVuSans-111\"/>\n     <use x=\"3087.544922\" xlink:href=\"#DejaVuSans-114\"/>\n     <use x=\"3128.658203\" xlink:href=\"#DejaVuSans-32\"/>\n     <use x=\"3160.445312\" xlink:href=\"#DejaVuSans-101\"/>\n     <use x=\"3221.96875\" xlink:href=\"#DejaVuSans-97\"/>\n     <use x=\"3283.248047\" xlink:href=\"#DejaVuSans-99\"/>\n     <use x=\"3338.228516\" xlink:href=\"#DejaVuSans-104\"/>\n     <use x=\"3401.607422\" xlink:href=\"#DejaVuSans-32\"/>\n     <use x=\"3433.394531\" xlink:href=\"#DejaVuSans-110\"/>\n     <use x=\"3496.773438\" xlink:href=\"#DejaVuSans-117\"/>\n     <use x=\"3560.152344\" xlink:href=\"#DejaVuSans-109\"/>\n     <use x=\"3657.564453\" xlink:href=\"#DejaVuSans-98\"/>\n     <use x=\"3721.041016\" xlink:href=\"#DejaVuSans-101\"/>\n     <use x=\"3782.564453\" xlink:href=\"#DejaVuSans-114\"/>\n     <use x=\"3823.677734\" xlink:href=\"#DejaVuSans-32\"/>\n     <use x=\"3855.464844\" xlink:href=\"#DejaVuSans-111\"/>\n     <use x=\"3916.646484\" xlink:href=\"#DejaVuSans-102\"/>\n     <use x=\"3951.851562\" xlink:href=\"#DejaVuSans-32\"/>\n     <use x=\"3983.638672\" xlink:href=\"#DejaVuSans-114\"/>\n     <use x=\"4024.751953\" xlink:href=\"#DejaVuSans-97\"/>\n     <use x=\"4086.03125\" xlink:href=\"#DejaVuSans-110\"/>\n     <use x=\"4149.410156\" xlink:href=\"#DejaVuSans-103\"/>\n     <use x=\"4212.886719\" xlink:href=\"#DejaVuSans-101\"/>\n     <use x=\"4274.410156\" xlink:href=\"#DejaVuSans-32\"/>\n     <use x=\"4306.197266\" xlink:href=\"#DejaVuSans-98\"/>\n     <use x=\"4369.673828\" xlink:href=\"#DejaVuSans-105\"/>\n     <use x=\"4397.457031\" xlink:href=\"#DejaVuSans-110\"/>\n     <use x=\"4460.835938\" xlink:href=\"#DejaVuSans-115\"/>\n     <use x=\"4512.935547\" xlink:href=\"#DejaVuSans-41\"/>\n    </g>\n   </g>\n  </g>\n </g>\n <defs>\n  <clipPath id=\"p0d3b667a4c\">\n   <rect height=\"543.6\" width=\"558\" x=\"34.240625\" y=\"22.318125\"/>\n  </clipPath>\n </defs>\n</svg>\n",
      "image/png": "[encoded data removed]"
     },
     "metadata": {
      "needs_background": "light"
     },
     "output_type": "display_data"
    }
   ],
   "source": [
    "import matplotlib.pyplot as plt\n",
    "fig, ax = plt.subplots(figsize=(10,10))\n",
    "ax.boxplot(times)\n",
    "ax.set_xticklabels(num_range_bins_array)"
   ]
  },
  {
   "cell_type": "code",
   "execution_count": 12,
   "metadata": {},
   "outputs": [
    {
     "data": {
      "text/plain": [
       "5500"
      ]
     },
     "execution_count": 12,
     "metadata": {},
     "output_type": "execute_result"
    }
   ],
   "source": [
    "# On cpu\n",
    "# On gpu\n",
    "# On cpu with parallelisation\n",
    "\n",
    "# Show the throttling of the stft function\n",
    "# Review decision in padded=false\n",
    "#"
   ]
  },
  {
   "cell_type": "code",
   "execution_count": 12,
   "metadata": {},
   "outputs": [
    {
     "ename": "NameError",
     "evalue": "name 'model_trt' is not defined",
     "output_type": "error",
     "traceback": [
      "\u001b[1;31m---------------------------------------------------------------------------\u001b[0m",
      "\u001b[1;31mNameError\u001b[0m                                 Traceback (most recent call last)",
      "\u001b[1;32m<ipython-input-12-ca02b9499d02>\u001b[0m in \u001b[0;36m<module>\u001b[1;34m\u001b[0m\n\u001b[0;32m     18\u001b[0m \u001b[1;31m# GPU warmup\u001b[0m\u001b[1;33m\u001b[0m\u001b[1;33m\u001b[0m\u001b[1;33m\u001b[0m\u001b[0m\n\u001b[0;32m     19\u001b[0m \u001b[1;32mfor\u001b[0m \u001b[0m_\u001b[0m \u001b[1;32min\u001b[0m \u001b[0mrange\u001b[0m\u001b[1;33m(\u001b[0m\u001b[1;36m100\u001b[0m\u001b[1;33m)\u001b[0m\u001b[1;33m:\u001b[0m\u001b[1;33m\u001b[0m\u001b[1;33m\u001b[0m\u001b[0m\n\u001b[1;32m---> 20\u001b[1;33m     \u001b[0m_\u001b[0m \u001b[1;33m=\u001b[0m \u001b[0mmodel_trt\u001b[0m\u001b[1;33m(\u001b[0m\u001b[0mtorch\u001b[0m\u001b[1;33m.\u001b[0m\u001b[0mrandn\u001b[0m\u001b[1;33m(\u001b[0m\u001b[1;33m(\u001b[0m\u001b[1;36m1\u001b[0m\u001b[1;33m,\u001b[0m \u001b[1;36m1\u001b[0m\u001b[1;33m,\u001b[0m \u001b[1;36m128\u001b[0m\u001b[1;33m,\u001b[0m \u001b[1;36m45\u001b[0m\u001b[1;33m)\u001b[0m\u001b[1;33m)\u001b[0m\u001b[1;33m.\u001b[0m\u001b[0mcuda\u001b[0m\u001b[1;33m(\u001b[0m\u001b[1;33m)\u001b[0m\u001b[1;33m)\u001b[0m\u001b[1;33m\u001b[0m\u001b[1;33m\u001b[0m\u001b[0m\n\u001b[0m\u001b[0;32m     21\u001b[0m \u001b[1;33m\u001b[0m\u001b[0m\n\u001b[0;32m     22\u001b[0m \u001b[1;32mfor\u001b[0m \u001b[0mnum_range_bins\u001b[0m \u001b[1;32min\u001b[0m \u001b[0mnum_range_bins_array\u001b[0m\u001b[1;33m:\u001b[0m\u001b[1;33m\u001b[0m\u001b[1;33m\u001b[0m\u001b[0m\n",
      "\u001b[1;31mNameError\u001b[0m: name 'model_trt' is not defined"
     ]
    }
   ],
   "source": [
    "# In parallel\n",
    "\n",
    "num_range_bins = 36000\n",
    "fs = 714 # Sampling frequency\n",
    "nperseg = 128 # Length of each segment\n",
    "noverlap = 64 # Number of overlapping points between segments\n",
    "nfft = 128 # Length of FFT\n",
    "dwell_time = 4\n",
    "slice_width = 45\n",
    "overlap = 0.5\n",
    "num_points = np.int64(np.floor(dwell_time* fs))\n",
    "classified_imgs = 0\n",
    "num_loops = 10\n",
    "times = []\n",
    "num_range_bins_array = np.arange(10000, 50000, 5000)\n",
    "\n",
    "torch.cuda.current_stream().synchronize()\n",
    "# GPU warmup\n",
    "for _ in range(100):\n",
    "    _ = model_trt(torch.randn((1, 1, 128, 45)).cuda())\n",
    "\n",
    "for num_range_bins in num_range_bins_array:\n",
    "    # Start counter\n",
    "    range_bin_times = []\n",
    "    t0 = time.time()\n",
    "\n",
    "    for _ in range(1):\n",
    "        # Creating the samples\n",
    "        t2 = time.time()\n",
    "        x = torch.randn(num_range_bins, num_points, dtype=torch.cfloat)\n",
    "\n",
    "        # Get the short-term fourier transform of the signal\n",
    "\n",
    "        # f, t, Zxx = signal.stft(x, fs=fs, window='hamming', nperseg=nperseg, noverlap=noverlap, nfft=nfft, detrend=False, return_onesided=True, boundary='zeros', padded=False, axis=-1)\n",
    "        # Zxx_tensor = torch.from_numpy(Zxx)\n",
    "        Zxx_tensor = torch.randn(128,45)\n",
    "\n",
    "        # Converting to dB\n",
    "        fft_dB = 20*torch.log10(torch.abs(Zxx_tensor))\n",
    "        _ = model_trt(fft_dB.cuda())\n",
    "\n",
    "        t3 = time.time()\n",
    "\n",
    "        range_bin_times.append (t3-t2)\n",
    "\n",
    "    times.append((range_bin_times))\n",
    "\n"
   ]
  },
  {
   "cell_type": "code",
   "execution_count": 21,
   "metadata": {},
   "outputs": [
    {
     "data": {
      "text/plain": [
       "1969.864781229934"
      ]
     },
     "execution_count": 21,
     "metadata": {},
     "output_type": "execute_result"
    }
   ],
   "source": [
    "throughput = num_imgs/(t1-t0)\n",
    "point_throughput = throughput * slice_width\n",
    "supported_range_bins = point_throughput/fs\n",
    "supported_range_bins*5"
   ]
  }
 ],
 "metadata": {
  "interpreter": {
   "hash": "16d30091bb45856a94ae619e5d9410e3445f74495848a8805ee5ad5ec3b0e2cd"
  },
  "kernelspec": {
   "display_name": "Python 3.8.5 64-bit ('masters': conda)",
   "name": "python3"
  },
  "language_info": {
   "codemirror_mode": {
    "name": "ipython",
    "version": 3
   },
   "file_extension": ".py",
   "mimetype": "text/x-python",
   "name": "python",
   "nbconvert_exporter": "python",
   "pygments_lexer": "ipython3",
   "version": "3.8.5"
  },
  "orig_nbformat": 4
 },
 "nbformat": 4,
 "nbformat_minor": 2
}
