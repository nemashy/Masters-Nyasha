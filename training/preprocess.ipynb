{
 "cells": [
  {
   "cell_type": "code",
   "execution_count": null,
   "metadata": {},
   "outputs": [],
   "source": [
    "import torch\n",
    "import scipy.signal as signal\n",
    "import numpy as np\n",
    "from matplotlib import pyplot as plt\n",
    "import time\n",
    "from torch2trt import TRTModule\n",
    "from torch2trt import torch2trt\n",
    "from models.CNN import Model4\n",
    "from scipy import signal\n",
    "import matplotlib.pyplot as plt"
   ]
  },
  {
   "cell_type": "code",
   "execution_count": null,
   "metadata": {},
   "outputs": [],
   "source": [
    "\n",
    "\n",
    "fs = 10000/14  # Sample frequency (Hz)\n",
    "\n",
    "f0 = 0.5 # Frequency to be removed from signal (Hz)\n",
    "\n",
    "Q = 0.3  # Quality factor\n",
    "\n",
    "# Design notch filter\n",
    "\n",
    "b, a = signal.iirnotch(f0, Q, fs)\n",
    "\n",
    "# Frequency response\n",
    "\n",
    "freq, h = signal.freqz(b, a, fs=fs)\n",
    "\n",
    "# Plot\n",
    "\n",
    "fig, ax = plt.subplots(2, 1, figsize=(8, 6))\n",
    "\n",
    "ax[0].plot(freq, 20*np.log10(abs(h)), color='blue')\n",
    "\n",
    "ax[0].set_title(\"Frequency Response\")\n",
    "\n",
    "ax[0].set_ylabel(\"Amplitude (dB)\", color='blue')\n",
    "\n",
    "ax[0].set_xlim([0, 400])\n",
    "\n",
    "ax[0].set_ylim([-25, 10])\n",
    "\n",
    "ax[0].grid()\n",
    "\n",
    "ax[1].plot(freq, np.unwrap(np.angle(h))*180/np.pi, color='green')\n",
    "\n",
    "ax[1].set_ylabel(\"Angle (degrees)\", color='green')\n",
    "\n",
    "ax[1].set_xlabel(\"Frequency (Hz)\")\n",
    "\n",
    "ax[1].set_xlim([0, 100])\n",
    "\n",
    "ax[1].set_yticks([-90, -60, -30, 0, 30, 60, 90])\n",
    "\n",
    "ax[1].set_ylim([-90, 90])\n",
    "\n",
    "ax[1].grid()\n",
    "\n",
    "plt.show()"
   ]
  },
  {
   "cell_type": "code",
   "execution_count": null,
   "metadata": {},
   "outputs": [],
   "source": [
    "# Load model\n",
    "model_trt = TRTModule()\n",
    "model_trt.load_state_dict(torch.load('trt_models/model_trt_int8.pth'))"
   ]
  },
  {
   "cell_type": "code",
   "execution_count": null,
   "metadata": {},
   "outputs": [],
   "source": [
    "num_range_bins = 36000\n",
    "fs = 714 # Sampling frequency\n",
    "nperseg = 128 # Length of each segment\n",
    "noverlap = 64 # Number of overlapping points between segments\n",
    "nfft = 128 # Length of FFT\n",
    "dwell_time = 4\n",
    "slice_width = 45\n",
    "overlap = 0.5\n",
    "num_points = np.int64(np.floor(dwell_time* fs))\n",
    "classified_imgs = 0\n",
    "num_loops = 10\n",
    "times = []\n",
    "num_range_bins_array = np.arange(3_000, 21_000, 3_000)\n",
    "\n",
    "torch.cuda.current_stream().synchronize()\n",
    "# GPU warmup\n",
    "for _ in range(10):\n",
    "    _ = model_trt(torch.randn((1, 1, 128, 45)).cuda())\n",
    "\n",
    "for num_range_bins in num_range_bins_array:\n",
    "    # Start counter\n",
    "    range_bin_times = []\n",
    "    t0 = time.time()\n",
    "\n",
    "    print(f'looking at {num_range_bins} range bins ......')\n",
    "\n",
    "    for _ in range(100):\n",
    "        # Creating the samples\n",
    "        t2 = time.time()\n",
    "        x = torch.randn(num_range_bins, num_points, dtype=torch.cfloat)\n",
    "        filtered_x = signal.filtfilt(b, a, x)\n",
    "        # Get the short-term fourier transform of the signal\n",
    "\n",
    "        f, t, Zxx = signal.stft(filtered_x, fs=fs, window='hamming', nperseg=nperseg, noverlap=noverlap, nfft=nfft, return_onesided=False, padded=False, axis=-1)\n",
    "        Zxx_tensor = torch.from_numpy(Zxx)\n",
    "        # Zxx_tensor = torch.randn(num_range_bins, 128,45)\n",
    "\n",
    "        # Converting to dB\n",
    "        fft_dB = 20*torch.log10(torch.abs(Zxx_tensor))\n",
    "        _ = model_trt(fft_dB.cuda())\n",
    "\n",
    "        t3 = time.time()\n",
    "\n",
    "        range_bin_times.append (t3-t2)\n",
    "\n",
    "    times.append((range_bin_times))"
   ]
  },
  {
   "cell_type": "code",
   "execution_count": null,
   "metadata": {},
   "outputs": [],
   "source": [
    "num_range_bins_array = np.arange(3_000, 21_000, 3000)\n"
   ]
  },
  {
   "cell_type": "code",
   "execution_count": null,
   "metadata": {},
   "outputs": [],
   "source": [
    "import matplotlib.pyplot as plt\n",
    "fig, ax = plt.subplots(figsize=(10,10))\n",
    "ax.grid()\n",
    "ax.boxplot(times)\n",
    "\n",
    "ax.set_xticklabels(num_range_bins_array)\n",
    "ax.set_ylim([0,6])\n",
    "# ax.set_title('Plot of number of ranges bins vs processing time (10 times for each number of range bins)')\n",
    "ax.set_xlabel('Number of Range Bins')\n",
    "ax.set_ylabel('Processing Time (s)')\n"
   ]
  }
 ],
 "metadata": {
  "interpreter": {
   "hash": "c038a02319e44538776f88f6eccb85a8daa469fb892b6db8d0a399f3ecc69bfa"
  },
  "kernelspec": {
   "display_name": "Python 3.8.8 64-bit ('thesis': conda)",
   "name": "python3"
  },
  "language_info": {
   "codemirror_mode": {
    "name": "ipython",
    "version": 3
   },
   "file_extension": ".py",
   "mimetype": "text/x-python",
   "name": "python",
   "nbconvert_exporter": "python",
   "pygments_lexer": "ipython3",
   "version": "3.8.5"
  },
  "orig_nbformat": 4
 },
 "nbformat": 4,
 "nbformat_minor": 2
}
