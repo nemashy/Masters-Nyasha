{
 "metadata": {
  "language_info": {
   "codemirror_mode": {
    "name": "ipython",
    "version": 3
   },
   "file_extension": ".py",
   "mimetype": "text/x-python",
   "name": "python",
   "nbconvert_exporter": "python",
   "pygments_lexer": "ipython3",
   "version": "3.8.8"
  },
  "orig_nbformat": 4,
  "kernelspec": {
   "name": "python3",
   "display_name": "Python 3.8.8 64-bit ('thesis': conda)"
  },
  "interpreter": {
   "hash": "c038a02319e44538776f88f6eccb85a8daa469fb892b6db8d0a399f3ecc69bfa"
  }
 },
 "nbformat": 4,
 "nbformat_minor": 2,
 "cells": [
  {
   "cell_type": "code",
   "execution_count": 1,
   "source": [
    "sys.path.append('../models')\n",
    "\n",
    "import sys\n",
    "import numpy as np\n",
    "import torch.optim as optim\n",
    "import torchvision.transforms as transforms\n",
    "import torch.nn as nn\n",
    "import torch.nn.functional as F\n",
    "from model_training import *\n",
    "from CNN import ErnNet\n",
    "from training_functions import *\n",
    "from cross_validation import *\n"
   ],
   "outputs": [],
   "metadata": {}
  },
  {
   "cell_type": "code",
   "execution_count": 2,
   "source": [
    "import yaml\n",
    "def read_params(config_path):\n",
    "    with open(config_path) as yaml_file:\n",
    "        config = yaml.safe_load(yaml_file)\n",
    "    return config\n",
    "\n",
    "config = read_params('settings.yaml')"
   ],
   "outputs": [],
   "metadata": {}
  },
  {
   "cell_type": "code",
   "execution_count": 3,
   "source": [
    "batch_size = config['batch_size']\n",
    "num_epochs = config['number_epochs']\n",
    "compressed_data_path = config['compressed_data_path']\n",
    "lr = config['lr']\n",
    "transition_steps = config['transition_steps']\n",
    "gamma = config['gamma_value']"
   ],
   "outputs": [],
   "metadata": {}
  },
  {
   "cell_type": "code",
   "execution_count": 4,
   "source": [
    "data = decompress_data(compressed_data_path)\n",
    "\n",
    "# Get data loaders\n",
    "data_loaders_and_classes = get_loaders_and_classes(data, batch_size)"
   ],
   "outputs": [],
   "metadata": {}
  },
  {
   "cell_type": "code",
   "execution_count": 5,
   "source": [
    "device = get_device()\n",
    "\n",
    "# Initialise model\n",
    "model = ErnNet()\n",
    "\n",
    "# Initialising training parameters\n",
    "class_weights = get_class_weights(data['y_train'], device)\n",
    "criterion = nn.CrossEntropyLoss(weight=class_weights)\n",
    "optimizer = optim.Adam(model.parameters(), lr)\n",
    "\n",
    "# Scheduling parameters\n",
    "scheduler = Scheduler(optimizer, transition_steps, gamma)\n",
    "lr_scheduler = scheduler.get_MultiStepLR()"
   ],
   "outputs": [
    {
     "output_type": "stream",
     "name": "stdout",
     "text": [
      "Running on the GPU\n"
     ]
    },
    {
     "output_type": "stream",
     "name": "stderr",
     "text": [
      "/home/nyasha/anaconda3/envs/thesis/lib/python3.8/site-packages/sklearn/utils/validation.py:70: FutureWarning: Pass classes=['2_walking' 'clutter/noise' 'running' 'sphere_swing' 'vehicle' 'walking'], y=['2_walking' 'sphere_swing' 'vehicle' ... 'clutter/noise' 'running'\n",
      " 'sphere_swing'] as keyword args. From version 1.0 (renaming of 0.25) passing these as positional arguments will result in an error\n",
      "  warnings.warn(f\"Pass {args_msg} as keyword args. From version \"\n"
     ]
    },
    {
     "output_type": "stream",
     "name": "stdout",
     "text": [
      "Adjusting learning rate of group 0 to 1.0000e-04.\n"
     ]
    }
   ],
   "metadata": {}
  },
  {
   "cell_type": "code",
   "execution_count": 108,
   "source": [
    "from torch.nn import parameter\n",
    "import torch.nn.utils.prune as prune\n",
    "from torchvision import models\n",
    "\n",
    "from utility_functions import get_pytorch_model\n",
    "from CNN import ErnNet\n",
    "\n",
    "\n",
    "\n",
    "model_ft = models.resnet18(pretrained=False)\n",
    "num_ftrs = model_ft.fc.in_features\n",
    "model_ft.fc = nn.Linear(num_ftrs, 6)\n",
    "model_ft.conv1 = nn.Conv2d(1, 64, kernel_size=(7, 7), stride=(2, 2), padding=(3, 3), bias=False)\n",
    "\n",
    "weights_path = 'checkpoint.pt'\n",
    "model = model_ft # ErnNet()\n",
    "\n",
    "unpruned_model = get_pytorch_model(weights_path, model)\n",
    "# unpruned_model.first_layer\n",
    "\n",
    "# parameters_to_prune = (\n",
    "#     (unpruned_model.first_layer.conv1, 'weight'),\n",
    "#     (unpruned_model.block1.conv1, 'weight'),\n",
    "#     (unpruned_model.block1.conv2, 'weight'),\n",
    "#     (unpruned_model.block2.conv1, 'weight'),\n",
    "#     (unpruned_model.block2.conv2, 'weight'),\n",
    "#     (unpruned_model.block3.conv1, 'weight'),\n",
    "#     (unpruned_model.block3.conv2, 'weight'),\n",
    "#     (unpruned_model.fc1, 'weight'),\n",
    "# )\n",
    "\n",
    "conv2d_prune_amount = 0.3\n",
    "parameters_to_prune = []\n",
    "for module_name, module in model.named_modules():\n",
    "    if isinstance(module, torch.nn.Conv2d):\n",
    "        parameters_to_prune.append((module, \"weight\"))\n",
    "prune.global_unstructured(\n",
    "    parameters_to_prune,\n",
    "    pruning_method=prune.L1Unstructured,\n",
    "    amount=conv2d_prune_amount,\n",
    "            )\n",
    "\n",
    "# prune.global_unstructured(\n",
    "#     parameters_to_prune,\n",
    "#     pruning_method=prune.L1Unstructured,\n",
    "#     amount=0.2,\n",
    "# )   "
   ],
   "outputs": [],
   "metadata": {}
  },
  {
   "cell_type": "code",
   "execution_count": 109,
   "source": [
    "keys = []\n",
    "for name, value in unpruned_model.named_parameters():\n",
    "    keys.append(name)"
   ],
   "outputs": [],
   "metadata": {}
  },
  {
   "cell_type": "code",
   "execution_count": 110,
   "source": [
    "# print(\n",
    "#     \"Sparsity in conv1.weight: {:.2f}%\".format(\n",
    "#         100. * float(torch.sum(unpruned_model.fc1.weight == 0))\n",
    "#         / float(unpruned_model.fc1.weight.nelement())\n",
    "#     )\n",
    "# )"
   ],
   "outputs": [],
   "metadata": {}
  },
  {
   "cell_type": "code",
   "execution_count": 111,
   "source": [
    "model_trainer = ModelTrainer(model, criterion, data_loaders_and_classes)"
   ],
   "outputs": [
    {
     "output_type": "stream",
     "name": "stdout",
     "text": [
      "Running on the GPU\n"
     ]
    }
   ],
   "metadata": {}
  },
  {
   "cell_type": "code",
   "execution_count": 112,
   "source": [
    "model_trainer.compressed_model = unpruned_model\n",
    "unpruned_model.to('cuda')\n",
    "_, accuracy, _, _, _ = model_trainer.evaluate_model(unpruned_model, data_loaders_and_classes['val_loader'], True)\n",
    "print(accuracy)"
   ],
   "outputs": [
    {
     "output_type": "display_data",
     "data": {
      "text/plain": [
       "<Figure size 864x864 with 2 Axes>"
      ],
      "image/png": "[encoded data removed]"
     },
     "metadata": {
      "needs_background": "light"
     }
    },
    {
     "output_type": "stream",
     "name": "stdout",
     "text": [
      "66.19561175158051\n"
     ]
    }
   ],
   "metadata": {}
  }
 ]
}