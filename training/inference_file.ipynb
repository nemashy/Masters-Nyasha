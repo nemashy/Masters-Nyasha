{
 "cells": [
  {
   "cell_type": "code",
   "execution_count": null,
   "metadata": {},
   "outputs": [],
   "source": [
    "import time\n",
    "import torch\n",
    "import numpy as np\n",
    "import torch.nn as nn\n",
    "\n",
    "from torch2trt import torch2trt\n",
    "\n",
    "from model_training import get_loaders_and_classes, get_class_weights\n",
    "from models.CNN import Model4\n",
    "from utils import *"
   ]
  },
  {
   "cell_type": "code",
   "execution_count": null,
   "metadata": {},
   "outputs": [],
   "source": [
    "import yaml\n",
    "def read_params(config_path):\n",
    "    with open(config_path) as yaml_file:\n",
    "        config = yaml.safe_load(yaml_file)\n",
    "    return config\n",
    "\n",
    "config = read_params('settings.yaml')\n",
    "batch_size = config['batch_size']\n",
    "num_epochs = config['number_epochs']\n",
    "# Extracting the training, validation and testing data\n",
    "compressed_data_path = config['compressed_data_path']\n",
    "data = decompress_data(compressed_data_path)\n",
    "\n",
    "# Get data loaders\n",
    "data_loaders_and_classes = get_loaders_and_classes(data, batch_size)"
   ]
  },
  {
   "cell_type": "code",
   "execution_count": null,
   "metadata": {},
   "outputs": [],
   "source": [
    "# Extracting the training, validation and testing data\n",
    "x_train = data['x_train']\n",
    "x_val = data['x_val']\n",
    "x_test = data['x_test']\n",
    "\n",
    "y_train = data['y_train']\n",
    "y_val = data['y_val']\n",
    "y_test = data['y_test']"
   ]
  },
  {
   "cell_type": "code",
   "execution_count": null,
   "metadata": {},
   "outputs": [],
   "source": [
    "# Calibrating model\n",
    "random_idxs_train = np.random.randint(len(x_train), size=100)\n",
    "random_idxs_val = np.random.randint(len(x_val), size=100)\n",
    "random_idxs_test = np.random.randint(len(x_test), size=100)\n",
    "\n",
    "random_examples_train = x_train[random_idxs_train]\n",
    "random_examples_val = x_val[random_idxs_val]\n",
    "random_examples_test = x_train[random_idxs_test]\n",
    "\n",
    "int_8_calib_dataset = torch.from_numpy(np.concatenate((random_examples_train, random_examples_test, random_examples_val)))\n"
   ]
  },
  {
   "cell_type": "code",
   "execution_count": null,
   "metadata": {},
   "outputs": [],
   "source": [
    "x = torch.rand((batch_size, 1, 128, 45)).cuda()\n",
    "# create some regular pytorch model...\n",
    "network = Model4()\n",
    "checkpoint = torch.load('/home/nyasha/environments/masters/Masters-Nyasha/training/model4.pt')\n",
    "network.load_state_dict(checkpoint)\n",
    "network.eval().cuda()\n",
    "\n",
    "# Creating TensorRT models\n",
    "model_trt = torch2trt(network, [x], max_batch_size=batch_size)\n",
    "model_trt_fp16 = torch2trt(network, [x], fp16_mode=True, max_batch_size=batch_size)\n",
    "model_trt_int8 = torch2trt(network, [x], int8_mode=True, max_batch_size=batch_size, int8_calib_dataset=int_8_calib_dataset)\n"
   ]
  },
  {
   "cell_type": "code",
   "execution_count": null,
   "metadata": {},
   "outputs": [],
   "source": [
    "# Initialising training parameters\n",
    "class_weights = get_class_weights(y_train, 'cuda')\n",
    "criterion = nn.CrossEntropyLoss(weight=class_weights)"
   ]
  },
  {
   "cell_type": "code",
   "execution_count": null,
   "metadata": {},
   "outputs": [],
   "source": [
    "def evaluate_model(model_on_device, data_loader, criterion, classes, show_cm=False):\n",
    "\n",
    "    \"\"\"Evaluate Performance on test set\"\"\"\n",
    "    model_on_device.eval()  # Turn off gradient computations\n",
    "    num_batches = len(data_loader)\n",
    "    correct = 0\n",
    "    total = 0\n",
    "    running_loss = 0\n",
    "    y_tot = torch.empty(0)\n",
    "    y_pred_tot = torch.empty(0)\n",
    "\n",
    "    with torch.no_grad():\n",
    "        t0 = time.time()\n",
    "        for data in data_loader:\n",
    "            images, labels = data\n",
    "            images = images.to('cuda').float()\n",
    "            labels = labels.to('cuda')\n",
    "            outputs = model_on_device(images)\n",
    "            loss = criterion(outputs, labels)\n",
    "            _, predicted = torch.max(outputs.data, 1)\n",
    "            total += labels.size(0)\n",
    "            correct += (predicted == labels).sum().item()\n",
    "\n",
    "            running_loss += loss.item()\n",
    "\n",
    "            labels = labels.cpu()\n",
    "            predicted = predicted.cpu()\n",
    "\n",
    "            y_tot = torch.cat((y_tot, labels), 0)\n",
    "            y_pred_tot = torch.cat((y_pred_tot, predicted), 0)\n",
    "        t1 = time.time()\n",
    "    accuracy = 100 * correct / total\n",
    "    accuracy = 100 * correct / total\n",
    "    errors = y_pred_tot - y_tot != 0\n",
    "    y_pred_errors = y_pred_tot[errors]\n",
    "    y_true_errors = y_tot[errors]\n",
    "\n",
    "    # Plotting the Confusion Matrix\n",
    "    if show_cm:\n",
    "        generate_confusion_matrix(classes, y_tot, y_pred_tot)\n",
    "\n",
    "    print(f'Time taken on inference is {(t1-t0)/num_batches}')\n",
    "\n",
    "    return running_loss / num_batches, accuracy, errors, y_pred_errors, y_true_errors\n",
    "\n",
    "\n",
    "def generate_confusion_matrix(classes, y_tot, y_pred_tot):\n",
    "    cm = confusion_matrix(y_tot.numpy(), y_pred_tot.numpy())\n",
    "    num_classes = len(classes)\n",
    "    np.set_printoptions(precision=4)\n",
    "\n",
    "    # Coloured confusion matrix\n",
    "    plt.figure(figsize=(12, 12))\n",
    "    cm = confusion_matrix(y_tot.numpy(), y_pred_tot.numpy(), normalize=\"true\")\n",
    "    plt.imshow(cm, cmap=plt.cm.Blues)\n",
    "\n",
    "    for (i, j), z in np.ndenumerate(cm):\n",
    "        plt.text(j, i, \"{:0.3f}\".format(z), ha=\"center\", va=\"center\")\n",
    "\n",
    "    plt.xticks(range(num_classes))\n",
    "    plt.yticks(range(num_classes))\n",
    "    plt.xlabel(\"Prediction\")\n",
    "    plt.ylabel(\"True\")\n",
    "\n",
    "    plt.gca().set_xticklabels(classes)\n",
    "    plt.gca().set_yticklabels(classes)\n",
    "\n",
    "    plt.title(\"Normalized Confusion Matrix for the Data\")\n",
    "    plt.colorbar()\n",
    "    plt.show()"
   ]
  },
  {
   "cell_type": "code",
   "execution_count": null,
   "metadata": {},
   "outputs": [],
   "source": [
    "train_loader = data_loaders_and_classes['train_loader']\n",
    "val_loader = data_loaders_and_classes['val_loader']\n",
    "test_loader = data_loaders_and_classes['test_loader']\n",
    "classes = data_loaders_and_classes['classes']"
   ]
  },
  {
   "cell_type": "code",
   "execution_count": null,
   "metadata": {},
   "outputs": [],
   "source": [
    "# Pytorch model\n",
    "_, accuracy, errors, y_pred_errors, y_true_errors = evaluate_model(network, val_loader, criterion, classes, show_cm=False)\n",
    "print(accuracy)"
   ]
  },
  {
   "cell_type": "code",
   "execution_count": null,
   "metadata": {},
   "outputs": [],
   "source": [
    "# TRT model FP32\n",
    "_, accuracy, errors, y_pred_errors, y_true_errors = evaluate_model(model_trt, val_loader, criterion, classes, show_cm=False)\n",
    "print(accuracy)"
   ]
  },
  {
   "cell_type": "code",
   "execution_count": null,
   "metadata": {},
   "outputs": [],
   "source": [
    "# TRT model FP16\n",
    "_, accuracy, errors, y_pred_errors, y_true_errors = evaluate_model(model_trt_fp16, val_loader, criterion, classes, show_cm=False)\n",
    "print(accuracy)"
   ]
  },
  {
   "cell_type": "code",
   "execution_count": null,
   "metadata": {},
   "outputs": [],
   "source": [
    "# TRT Model INT8\n",
    "_, accuracy, errors, y_pred_errors, y_true_errors = evaluate_model(model_trt_int8, val_loader, criterion, classes, show_cm=False)\n",
    "print(accuracy)"
   ]
  },
  {
   "cell_type": "code",
   "execution_count": null,
   "metadata": {},
   "outputs": [],
   "source": [
    "torch.save(network.state_dict(), 'trt_models/pytorch_model.pth')\n",
    "torch.save(model_trt.state_dict(), 'trt_models/model_trt_fp32.pth')\n",
    "torch.save(model_trt_fp16.state_dict(), 'trt_models/model_trt_fp16.pth')\n",
    "torch.save(model_trt_int8.state_dict(), 'trt_models/model_trt_int8.pth')\n"
   ]
  }
 ],
 "metadata": {
  "interpreter": {
   "hash": "c038a02319e44538776f88f6eccb85a8daa469fb892b6db8d0a399f3ecc69bfa"
  },
  "kernelspec": {
   "display_name": "Python 3.8.8 64-bit ('thesis': conda)",
   "name": "python3"
  },
  "language_info": {
   "codemirror_mode": {
    "name": "ipython",
    "version": 3
   },
   "file_extension": ".py",
   "mimetype": "text/x-python",
   "name": "python",
   "nbconvert_exporter": "python",
   "pygments_lexer": "ipython3",
   "version": "3.8.8"
  },
  "orig_nbformat": 4
 },
 "nbformat": 4,
 "nbformat_minor": 2
}
